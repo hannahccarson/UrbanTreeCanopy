{
 "cells": [
  {
   "cell_type": "code",
   "execution_count": null,
   "metadata": {},
   "outputs": [],
   "source": [
    "def get_tree_percent(x):\n",
    "    return x['geometry_tree'].intersection(x['geometry']).area/x['geometry'].area\n",
    "#tract_taz['tract_pct'] = tract_taz[['geometry','geometry_taz']].apply(get_percent, axis = 1)\n"
   ]
  },
  {
   "cell_type": "code",
   "execution_count": null,
   "metadata": {},
   "outputs": [],
   "source": [
    "def ix2xy(r,c,gt):\n",
    "    '''Gets x,y from row and column'''\n",
    "    x = gt[0] + r * gt[1]\n",
    "    y = gt[3] + c * gt[5]\n",
    "    return(x,y)"
   ]
  },
  {
   "cell_type": "code",
   "execution_count": 1,
   "metadata": {},
   "outputs": [],
   "source": [
    "import pandas as pd\n",
    "import numpy as np\n",
    "import geopandas as gpd\n",
    "import os\n",
    "import gdal\n",
    "import rasterio\n",
    "import fiona\n",
    "import rasterio.mask\n",
    "from rastertodataframe import raster_to_dataframe\n",
    "import itertools"
   ]
  },
  {
   "cell_type": "markdown",
   "metadata": {},
   "source": [
    "## Read in Image Data"
   ]
  },
  {
   "cell_type": "code",
   "execution_count": 2,
   "metadata": {},
   "outputs": [],
   "source": [
    "boundaryDir = r'data\\boundaries'\n",
    "treeDir = r'data\\trees'\n",
    "img = 'delmarnaip.tif'\n",
    "delmar = gpd.read_file(os.path.join(boundaryDir,\"DEL_MAR.shp\"))\n",
    "crs_ref  = rasterio.open(os.path.join('data','images',img)).crs\n",
    "delmar = delmar.to_crs(crs_ref)\n",
    "\n",
    "# Read in tree data into correct projection\n",
    "dmtrees = gpd.read_file(os.path.join(treeDir,'delmar_trees.shp'))\n",
    "dmtrees = dmtrees.to_crs(delmar.crs)\n",
    "tree_mask = dmtrees.geometry.unary_union\n"
   ]
  },
  {
   "cell_type": "markdown",
   "metadata": {},
   "source": [
    "## Process Raster Data"
   ]
  },
  {
   "cell_type": "code",
   "execution_count": 3,
   "metadata": {},
   "outputs": [],
   "source": [
    "#crop del mar from image file\n",
    "shapes = delmar['geometry']\n",
    "with rasterio.open(os.path.join('data','images',img)) as src:\n",
    "    out_image, out_transform = rasterio.mask.mask(src, shapes, crop=True)\n",
    "    out_meta = src.meta"
   ]
  },
  {
   "cell_type": "code",
   "execution_count": 4,
   "metadata": {},
   "outputs": [],
   "source": [
    "#save del mar raster\n",
    "out_meta.update({\"driver\": \"GTiff\",\n",
    "                 \"height\": out_image.shape[1],\n",
    "                 \"width\": out_image.shape[2],\n",
    "                 \"transform\": out_transform})\n",
    "\n",
    "with rasterio.open(os.path.join('data','images',\"delmar_masked_naip.tif\"), \"w\", **out_meta) as dest:\n",
    "    dest.write(out_image)"
   ]
  },
  {
   "cell_type": "code",
   "execution_count": null,
   "metadata": {},
   "outputs": [],
   "source": []
  },
  {
   "cell_type": "code",
   "execution_count": 5,
   "metadata": {},
   "outputs": [],
   "source": [
    "#tree mask\n",
    "dmt = rasterio.open(os.path.join('data','images','delmar_masked_naip.tif'))\n",
    "# crop trees and 'not' trees\n",
    "out_image_trees, out_transform_trees = rasterio.mask.mask(dmt, tree_mask, crop=True, invert = False)\n",
    "out_meta_trees = dmt.meta\n",
    "out_image_not_trees, out_transform_not_trees = rasterio.mask.mask(dmt, tree_mask, crop=False, invert = True)\n",
    "out_meta_not_trees = dmt.meta\n",
    "\n",
    "out_meta_trees.update({\"driver\": \"GTiff\",\n",
    "                 \"height\": out_image_trees.shape[1],\n",
    "                 \"width\": out_image_trees.shape[2],\n",
    "                 \"transform\": out_transform_trees})\n",
    "\n",
    "with rasterio.open(os.path.join('data','images',\"delmar_masked_trees_naip.tif\"), \"w\", **out_meta_trees) as dest:\n",
    "    dest.write(out_image_trees)\n",
    "    \n",
    "    \n",
    "out_meta_not_trees.update({\"driver\": \"GTiff\",\n",
    "                 \"height\": out_image_not_trees.shape[1],\n",
    "                 \"width\": out_image_not_trees.shape[2],\n",
    "                 \"transform\": out_transform_not_trees})\n",
    "\n",
    "with rasterio.open(os.path.join('data','images',\"delmar_masked_not_trees_naip.tif\"), \"w\", **out_meta_not_trees) as dest:\n",
    "    dest.write(out_image_not_trees)"
   ]
  },
  {
   "cell_type": "markdown",
   "metadata": {},
   "source": [
    "# Load Training Data"
   ]
  },
  {
   "cell_type": "code",
   "execution_count": 6,
   "metadata": {},
   "outputs": [],
   "source": [
    "#ds = gdal.Open(os.path.join('data','images','delmar_masked.tif'))\n",
    "#gt = ds.GetGeoTransform()\n",
    "\n",
    "\n",
    "#df = pd.DataFrame.from_records(itertools.product(range(ds.RasterYSize),range(ds.RasterXSize)),columns=['Row','Column'])\n",
    "\n",
    "#ds = None\n",
    "\n",
    "#df['X'], df['Y'] = zip(*df.apply(lambda x: ix2xy(x['Column'],x['Row'],gt),axis=1))"
   ]
  },
  {
   "cell_type": "code",
   "execution_count": 7,
   "metadata": {},
   "outputs": [],
   "source": [
    "# Load Trees to DataFrame\n",
    "dmtgrtree = raster_to_dataframe(os.path.join('data','images','delmar_masked_trees_naip.tif'))\n",
    "dmtgrtree['tree'] = 1"
   ]
  },
  {
   "cell_type": "code",
   "execution_count": 8,
   "metadata": {},
   "outputs": [],
   "source": [
    "# Load Not Trees to DataFrame\n",
    "dmtgrntree = raster_to_dataframe(os.path.join('data','images','delmar_masked_not_trees_naip.tif'))\n",
    "dmtgrntree['tree'] = 0"
   ]
  },
  {
   "cell_type": "code",
   "execution_count": 55,
   "metadata": {},
   "outputs": [],
   "source": [
    "# clip no data values\n",
    "dmtgrtree['summy'] = dmtgrtree.Band_1+dmtgrtree.Band_2+dmtgrtree.Band_3+dmtgrtree.Band_4\n",
    "dmtgrntree['summy'] = dmtgrntree.Band_1+dmtgrntree.Band_2+dmtgrntree.Band_3+dmtgrntree.Band_4\n",
    "tree_training = pd.concat([dmtgrtree[dmtgrtree.summy >0],dmtgrntree[dmtgrntree.summy > 0]], axis = 0)\n",
    "tree_training = tree_training[['Band_1','Band_2','Band_3','Band_4','tree']].rename(columns = {'Band_1':'R','Band_2':'G','Band_3':'B','Band_4':'I'})"
   ]
  },
  {
   "cell_type": "code",
   "execution_count": 56,
   "metadata": {},
   "outputs": [],
   "source": [
    "# Calculate Ratios\n",
    "bands = ['R','G','B','I']\n",
    "for b in bands:\n",
    "    for r in bands:\n",
    "        if b==r: continue\n",
    "        tree_training['{}_{}'.format(b,r)] = tree_training[b]/tree_training[r]"
   ]
  },
  {
   "cell_type": "code",
   "execution_count": 57,
   "metadata": {},
   "outputs": [
    {
     "data": {
      "text/html": [
       "<div>\n",
       "<style scoped>\n",
       "    .dataframe tbody tr th:only-of-type {\n",
       "        vertical-align: middle;\n",
       "    }\n",
       "\n",
       "    .dataframe tbody tr th {\n",
       "        vertical-align: top;\n",
       "    }\n",
       "\n",
       "    .dataframe thead th {\n",
       "        text-align: right;\n",
       "    }\n",
       "</style>\n",
       "<table border=\"1\" class=\"dataframe\">\n",
       "  <thead>\n",
       "    <tr style=\"text-align: right;\">\n",
       "      <th></th>\n",
       "      <th>R</th>\n",
       "      <th>G</th>\n",
       "      <th>B</th>\n",
       "      <th>I</th>\n",
       "      <th>tree</th>\n",
       "      <th>R_G</th>\n",
       "      <th>R_B</th>\n",
       "      <th>R_I</th>\n",
       "      <th>G_R</th>\n",
       "      <th>G_B</th>\n",
       "      <th>G_I</th>\n",
       "      <th>B_R</th>\n",
       "      <th>B_G</th>\n",
       "      <th>B_I</th>\n",
       "      <th>I_R</th>\n",
       "      <th>I_G</th>\n",
       "      <th>I_B</th>\n",
       "    </tr>\n",
       "  </thead>\n",
       "  <tbody>\n",
       "    <tr>\n",
       "      <th>R</th>\n",
       "      <td>1.000000</td>\n",
       "      <td>0.848862</td>\n",
       "      <td>0.798553</td>\n",
       "      <td>0.290181</td>\n",
       "      <td>-0.314179</td>\n",
       "      <td>0.201518</td>\n",
       "      <td>-0.053376</td>\n",
       "      <td>0.256868</td>\n",
       "      <td>-0.201518</td>\n",
       "      <td>-0.235206</td>\n",
       "      <td>0.272149</td>\n",
       "      <td>0.053376</td>\n",
       "      <td>0.235206</td>\n",
       "      <td>0.270740</td>\n",
       "      <td>-0.256868</td>\n",
       "      <td>-0.272149</td>\n",
       "      <td>-0.270740</td>\n",
       "    </tr>\n",
       "    <tr>\n",
       "      <th>G</th>\n",
       "      <td>0.848862</td>\n",
       "      <td>1.000000</td>\n",
       "      <td>0.825509</td>\n",
       "      <td>0.293218</td>\n",
       "      <td>-0.303766</td>\n",
       "      <td>0.045114</td>\n",
       "      <td>-0.131273</td>\n",
       "      <td>0.232093</td>\n",
       "      <td>-0.045114</td>\n",
       "      <td>-0.214286</td>\n",
       "      <td>0.296715</td>\n",
       "      <td>0.131273</td>\n",
       "      <td>0.214286</td>\n",
       "      <td>0.281410</td>\n",
       "      <td>-0.232093</td>\n",
       "      <td>-0.296715</td>\n",
       "      <td>-0.281410</td>\n",
       "    </tr>\n",
       "    <tr>\n",
       "      <th>B</th>\n",
       "      <td>0.798553</td>\n",
       "      <td>0.825509</td>\n",
       "      <td>1.000000</td>\n",
       "      <td>0.156994</td>\n",
       "      <td>-0.337094</td>\n",
       "      <td>0.076732</td>\n",
       "      <td>-0.260212</td>\n",
       "      <td>0.356983</td>\n",
       "      <td>-0.076732</td>\n",
       "      <td>-0.394425</td>\n",
       "      <td>0.407575</td>\n",
       "      <td>0.260212</td>\n",
       "      <td>0.394425</td>\n",
       "      <td>0.431978</td>\n",
       "      <td>-0.356983</td>\n",
       "      <td>-0.407575</td>\n",
       "      <td>-0.431978</td>\n",
       "    </tr>\n",
       "    <tr>\n",
       "      <th>I</th>\n",
       "      <td>0.290181</td>\n",
       "      <td>0.293218</td>\n",
       "      <td>0.156994</td>\n",
       "      <td>1.000000</td>\n",
       "      <td>0.044312</td>\n",
       "      <td>-0.102044</td>\n",
       "      <td>0.218997</td>\n",
       "      <td>-0.456661</td>\n",
       "      <td>0.102044</td>\n",
       "      <td>0.308079</td>\n",
       "      <td>-0.413939</td>\n",
       "      <td>-0.218997</td>\n",
       "      <td>-0.308079</td>\n",
       "      <td>-0.414625</td>\n",
       "      <td>0.456661</td>\n",
       "      <td>0.413939</td>\n",
       "      <td>0.414625</td>\n",
       "    </tr>\n",
       "    <tr>\n",
       "      <th>tree</th>\n",
       "      <td>-0.314179</td>\n",
       "      <td>-0.303766</td>\n",
       "      <td>-0.337094</td>\n",
       "      <td>0.044312</td>\n",
       "      <td>1.000000</td>\n",
       "      <td>-0.150413</td>\n",
       "      <td>0.086570</td>\n",
       "      <td>-0.336824</td>\n",
       "      <td>0.150413</td>\n",
       "      <td>0.200821</td>\n",
       "      <td>-0.334114</td>\n",
       "      <td>-0.086570</td>\n",
       "      <td>-0.200821</td>\n",
       "      <td>-0.321614</td>\n",
       "      <td>0.336824</td>\n",
       "      <td>0.334114</td>\n",
       "      <td>0.321614</td>\n",
       "    </tr>\n",
       "    <tr>\n",
       "      <th>R_G</th>\n",
       "      <td>0.201518</td>\n",
       "      <td>0.045114</td>\n",
       "      <td>0.076732</td>\n",
       "      <td>-0.102044</td>\n",
       "      <td>-0.150413</td>\n",
       "      <td>1.000000</td>\n",
       "      <td>0.340306</td>\n",
       "      <td>0.164442</td>\n",
       "      <td>-1.000000</td>\n",
       "      <td>-0.088288</td>\n",
       "      <td>0.030762</td>\n",
       "      <td>-0.340306</td>\n",
       "      <td>0.088288</td>\n",
       "      <td>0.040459</td>\n",
       "      <td>-0.164442</td>\n",
       "      <td>-0.030762</td>\n",
       "      <td>-0.040459</td>\n",
       "    </tr>\n",
       "    <tr>\n",
       "      <th>R_B</th>\n",
       "      <td>-0.053376</td>\n",
       "      <td>-0.131273</td>\n",
       "      <td>-0.260212</td>\n",
       "      <td>0.218997</td>\n",
       "      <td>0.086570</td>\n",
       "      <td>0.340306</td>\n",
       "      <td>1.000000</td>\n",
       "      <td>-0.290692</td>\n",
       "      <td>-0.340306</td>\n",
       "      <td>0.572238</td>\n",
       "      <td>-0.381588</td>\n",
       "      <td>-1.000000</td>\n",
       "      <td>-0.572238</td>\n",
       "      <td>-0.460209</td>\n",
       "      <td>0.290692</td>\n",
       "      <td>0.381588</td>\n",
       "      <td>0.460209</td>\n",
       "    </tr>\n",
       "    <tr>\n",
       "      <th>R_I</th>\n",
       "      <td>0.256868</td>\n",
       "      <td>0.232093</td>\n",
       "      <td>0.356983</td>\n",
       "      <td>-0.456661</td>\n",
       "      <td>-0.336824</td>\n",
       "      <td>0.164442</td>\n",
       "      <td>-0.290692</td>\n",
       "      <td>1.000000</td>\n",
       "      <td>-0.164442</td>\n",
       "      <td>-0.485707</td>\n",
       "      <td>0.866608</td>\n",
       "      <td>0.290692</td>\n",
       "      <td>0.485707</td>\n",
       "      <td>0.830706</td>\n",
       "      <td>-1.000000</td>\n",
       "      <td>-0.866608</td>\n",
       "      <td>-0.830706</td>\n",
       "    </tr>\n",
       "    <tr>\n",
       "      <th>G_R</th>\n",
       "      <td>-0.201518</td>\n",
       "      <td>-0.045114</td>\n",
       "      <td>-0.076732</td>\n",
       "      <td>0.102044</td>\n",
       "      <td>0.150413</td>\n",
       "      <td>-1.000000</td>\n",
       "      <td>-0.340306</td>\n",
       "      <td>-0.164442</td>\n",
       "      <td>1.000000</td>\n",
       "      <td>0.088288</td>\n",
       "      <td>-0.030762</td>\n",
       "      <td>0.340306</td>\n",
       "      <td>-0.088288</td>\n",
       "      <td>-0.040459</td>\n",
       "      <td>0.164442</td>\n",
       "      <td>0.030762</td>\n",
       "      <td>0.040459</td>\n",
       "    </tr>\n",
       "    <tr>\n",
       "      <th>G_B</th>\n",
       "      <td>-0.235206</td>\n",
       "      <td>-0.214286</td>\n",
       "      <td>-0.394425</td>\n",
       "      <td>0.308079</td>\n",
       "      <td>0.200821</td>\n",
       "      <td>-0.088288</td>\n",
       "      <td>0.572238</td>\n",
       "      <td>-0.485707</td>\n",
       "      <td>0.088288</td>\n",
       "      <td>1.000000</td>\n",
       "      <td>-0.489936</td>\n",
       "      <td>-0.572238</td>\n",
       "      <td>-1.000000</td>\n",
       "      <td>-0.608605</td>\n",
       "      <td>0.485707</td>\n",
       "      <td>0.489936</td>\n",
       "      <td>0.608605</td>\n",
       "    </tr>\n",
       "    <tr>\n",
       "      <th>G_I</th>\n",
       "      <td>0.272149</td>\n",
       "      <td>0.296715</td>\n",
       "      <td>0.407575</td>\n",
       "      <td>-0.413939</td>\n",
       "      <td>-0.334114</td>\n",
       "      <td>0.030762</td>\n",
       "      <td>-0.381588</td>\n",
       "      <td>0.866608</td>\n",
       "      <td>-0.030762</td>\n",
       "      <td>-0.489936</td>\n",
       "      <td>1.000000</td>\n",
       "      <td>0.381588</td>\n",
       "      <td>0.489936</td>\n",
       "      <td>0.881553</td>\n",
       "      <td>-0.866608</td>\n",
       "      <td>-1.000000</td>\n",
       "      <td>-0.881553</td>\n",
       "    </tr>\n",
       "    <tr>\n",
       "      <th>B_R</th>\n",
       "      <td>0.053376</td>\n",
       "      <td>0.131273</td>\n",
       "      <td>0.260212</td>\n",
       "      <td>-0.218997</td>\n",
       "      <td>-0.086570</td>\n",
       "      <td>-0.340306</td>\n",
       "      <td>-1.000000</td>\n",
       "      <td>0.290692</td>\n",
       "      <td>0.340306</td>\n",
       "      <td>-0.572238</td>\n",
       "      <td>0.381588</td>\n",
       "      <td>1.000000</td>\n",
       "      <td>0.572238</td>\n",
       "      <td>0.460209</td>\n",
       "      <td>-0.290692</td>\n",
       "      <td>-0.381588</td>\n",
       "      <td>-0.460209</td>\n",
       "    </tr>\n",
       "    <tr>\n",
       "      <th>B_G</th>\n",
       "      <td>0.235206</td>\n",
       "      <td>0.214286</td>\n",
       "      <td>0.394425</td>\n",
       "      <td>-0.308079</td>\n",
       "      <td>-0.200821</td>\n",
       "      <td>0.088288</td>\n",
       "      <td>-0.572238</td>\n",
       "      <td>0.485707</td>\n",
       "      <td>-0.088288</td>\n",
       "      <td>-1.000000</td>\n",
       "      <td>0.489936</td>\n",
       "      <td>0.572238</td>\n",
       "      <td>1.000000</td>\n",
       "      <td>0.608605</td>\n",
       "      <td>-0.485707</td>\n",
       "      <td>-0.489936</td>\n",
       "      <td>-0.608605</td>\n",
       "    </tr>\n",
       "    <tr>\n",
       "      <th>B_I</th>\n",
       "      <td>0.270740</td>\n",
       "      <td>0.281410</td>\n",
       "      <td>0.431978</td>\n",
       "      <td>-0.414625</td>\n",
       "      <td>-0.321614</td>\n",
       "      <td>0.040459</td>\n",
       "      <td>-0.460209</td>\n",
       "      <td>0.830706</td>\n",
       "      <td>-0.040459</td>\n",
       "      <td>-0.608605</td>\n",
       "      <td>0.881553</td>\n",
       "      <td>0.460209</td>\n",
       "      <td>0.608605</td>\n",
       "      <td>1.000000</td>\n",
       "      <td>-0.830706</td>\n",
       "      <td>-0.881553</td>\n",
       "      <td>-1.000000</td>\n",
       "    </tr>\n",
       "    <tr>\n",
       "      <th>I_R</th>\n",
       "      <td>-0.256868</td>\n",
       "      <td>-0.232093</td>\n",
       "      <td>-0.356983</td>\n",
       "      <td>0.456661</td>\n",
       "      <td>0.336824</td>\n",
       "      <td>-0.164442</td>\n",
       "      <td>0.290692</td>\n",
       "      <td>-1.000000</td>\n",
       "      <td>0.164442</td>\n",
       "      <td>0.485707</td>\n",
       "      <td>-0.866608</td>\n",
       "      <td>-0.290692</td>\n",
       "      <td>-0.485707</td>\n",
       "      <td>-0.830706</td>\n",
       "      <td>1.000000</td>\n",
       "      <td>0.866608</td>\n",
       "      <td>0.830706</td>\n",
       "    </tr>\n",
       "    <tr>\n",
       "      <th>I_G</th>\n",
       "      <td>-0.272149</td>\n",
       "      <td>-0.296715</td>\n",
       "      <td>-0.407575</td>\n",
       "      <td>0.413939</td>\n",
       "      <td>0.334114</td>\n",
       "      <td>-0.030762</td>\n",
       "      <td>0.381588</td>\n",
       "      <td>-0.866608</td>\n",
       "      <td>0.030762</td>\n",
       "      <td>0.489936</td>\n",
       "      <td>-1.000000</td>\n",
       "      <td>-0.381588</td>\n",
       "      <td>-0.489936</td>\n",
       "      <td>-0.881553</td>\n",
       "      <td>0.866608</td>\n",
       "      <td>1.000000</td>\n",
       "      <td>0.881553</td>\n",
       "    </tr>\n",
       "    <tr>\n",
       "      <th>I_B</th>\n",
       "      <td>-0.270740</td>\n",
       "      <td>-0.281410</td>\n",
       "      <td>-0.431978</td>\n",
       "      <td>0.414625</td>\n",
       "      <td>0.321614</td>\n",
       "      <td>-0.040459</td>\n",
       "      <td>0.460209</td>\n",
       "      <td>-0.830706</td>\n",
       "      <td>0.040459</td>\n",
       "      <td>0.608605</td>\n",
       "      <td>-0.881553</td>\n",
       "      <td>-0.460209</td>\n",
       "      <td>-0.608605</td>\n",
       "      <td>-1.000000</td>\n",
       "      <td>0.830706</td>\n",
       "      <td>0.881553</td>\n",
       "      <td>1.000000</td>\n",
       "    </tr>\n",
       "  </tbody>\n",
       "</table>\n",
       "</div>"
      ],
      "text/plain": [
       "             R         G         B         I      tree       R_G       R_B  \\\n",
       "R     1.000000  0.848862  0.798553  0.290181 -0.314179  0.201518 -0.053376   \n",
       "G     0.848862  1.000000  0.825509  0.293218 -0.303766  0.045114 -0.131273   \n",
       "B     0.798553  0.825509  1.000000  0.156994 -0.337094  0.076732 -0.260212   \n",
       "I     0.290181  0.293218  0.156994  1.000000  0.044312 -0.102044  0.218997   \n",
       "tree -0.314179 -0.303766 -0.337094  0.044312  1.000000 -0.150413  0.086570   \n",
       "R_G   0.201518  0.045114  0.076732 -0.102044 -0.150413  1.000000  0.340306   \n",
       "R_B  -0.053376 -0.131273 -0.260212  0.218997  0.086570  0.340306  1.000000   \n",
       "R_I   0.256868  0.232093  0.356983 -0.456661 -0.336824  0.164442 -0.290692   \n",
       "G_R  -0.201518 -0.045114 -0.076732  0.102044  0.150413 -1.000000 -0.340306   \n",
       "G_B  -0.235206 -0.214286 -0.394425  0.308079  0.200821 -0.088288  0.572238   \n",
       "G_I   0.272149  0.296715  0.407575 -0.413939 -0.334114  0.030762 -0.381588   \n",
       "B_R   0.053376  0.131273  0.260212 -0.218997 -0.086570 -0.340306 -1.000000   \n",
       "B_G   0.235206  0.214286  0.394425 -0.308079 -0.200821  0.088288 -0.572238   \n",
       "B_I   0.270740  0.281410  0.431978 -0.414625 -0.321614  0.040459 -0.460209   \n",
       "I_R  -0.256868 -0.232093 -0.356983  0.456661  0.336824 -0.164442  0.290692   \n",
       "I_G  -0.272149 -0.296715 -0.407575  0.413939  0.334114 -0.030762  0.381588   \n",
       "I_B  -0.270740 -0.281410 -0.431978  0.414625  0.321614 -0.040459  0.460209   \n",
       "\n",
       "           R_I       G_R       G_B       G_I       B_R       B_G       B_I  \\\n",
       "R     0.256868 -0.201518 -0.235206  0.272149  0.053376  0.235206  0.270740   \n",
       "G     0.232093 -0.045114 -0.214286  0.296715  0.131273  0.214286  0.281410   \n",
       "B     0.356983 -0.076732 -0.394425  0.407575  0.260212  0.394425  0.431978   \n",
       "I    -0.456661  0.102044  0.308079 -0.413939 -0.218997 -0.308079 -0.414625   \n",
       "tree -0.336824  0.150413  0.200821 -0.334114 -0.086570 -0.200821 -0.321614   \n",
       "R_G   0.164442 -1.000000 -0.088288  0.030762 -0.340306  0.088288  0.040459   \n",
       "R_B  -0.290692 -0.340306  0.572238 -0.381588 -1.000000 -0.572238 -0.460209   \n",
       "R_I   1.000000 -0.164442 -0.485707  0.866608  0.290692  0.485707  0.830706   \n",
       "G_R  -0.164442  1.000000  0.088288 -0.030762  0.340306 -0.088288 -0.040459   \n",
       "G_B  -0.485707  0.088288  1.000000 -0.489936 -0.572238 -1.000000 -0.608605   \n",
       "G_I   0.866608 -0.030762 -0.489936  1.000000  0.381588  0.489936  0.881553   \n",
       "B_R   0.290692  0.340306 -0.572238  0.381588  1.000000  0.572238  0.460209   \n",
       "B_G   0.485707 -0.088288 -1.000000  0.489936  0.572238  1.000000  0.608605   \n",
       "B_I   0.830706 -0.040459 -0.608605  0.881553  0.460209  0.608605  1.000000   \n",
       "I_R  -1.000000  0.164442  0.485707 -0.866608 -0.290692 -0.485707 -0.830706   \n",
       "I_G  -0.866608  0.030762  0.489936 -1.000000 -0.381588 -0.489936 -0.881553   \n",
       "I_B  -0.830706  0.040459  0.608605 -0.881553 -0.460209 -0.608605 -1.000000   \n",
       "\n",
       "           I_R       I_G       I_B  \n",
       "R    -0.256868 -0.272149 -0.270740  \n",
       "G    -0.232093 -0.296715 -0.281410  \n",
       "B    -0.356983 -0.407575 -0.431978  \n",
       "I     0.456661  0.413939  0.414625  \n",
       "tree  0.336824  0.334114  0.321614  \n",
       "R_G  -0.164442 -0.030762 -0.040459  \n",
       "R_B   0.290692  0.381588  0.460209  \n",
       "R_I  -1.000000 -0.866608 -0.830706  \n",
       "G_R   0.164442  0.030762  0.040459  \n",
       "G_B   0.485707  0.489936  0.608605  \n",
       "G_I  -0.866608 -1.000000 -0.881553  \n",
       "B_R  -0.290692 -0.381588 -0.460209  \n",
       "B_G  -0.485707 -0.489936 -0.608605  \n",
       "B_I  -0.830706 -0.881553 -1.000000  \n",
       "I_R   1.000000  0.866608  0.830706  \n",
       "I_G   0.866608  1.000000  0.881553  \n",
       "I_B   0.830706  0.881553  1.000000  "
      ]
     },
     "execution_count": 57,
     "metadata": {},
     "output_type": "execute_result"
    }
   ],
   "source": [
    "# Check Correlations\n",
    "tree_training = tree_training.replace([np.inf, -np.inf], np.nan)\n",
    "tree_training = tree_training.fillna(0)\n",
    "tree_training.corr(method = 'kendall')"
   ]
  },
  {
   "cell_type": "code",
   "execution_count": 58,
   "metadata": {},
   "outputs": [],
   "source": [
    "tree_training.corr(method = 'kendall').to_csv('naip_corr.csv')"
   ]
  },
  {
   "cell_type": "markdown",
   "metadata": {},
   "source": [
    "# Load Model"
   ]
  },
  {
   "cell_type": "code",
   "execution_count": 12,
   "metadata": {},
   "outputs": [],
   "source": [
    "from sklearn import preprocessing\n",
    "import matplotlib.pyplot as plt \n",
    "plt.rc(\"font\", size=14)\n",
    "from sklearn.linear_model import LogisticRegression\n",
    "from sklearn.model_selection import train_test_split\n",
    "import seaborn as sns\n",
    "sns.set(style=\"white\")\n",
    "sns.set(style=\"whitegrid\", color_codes=True)"
   ]
  },
  {
   "cell_type": "code",
   "execution_count": 39,
   "metadata": {},
   "outputs": [],
   "source": [
    "X = tree_training[['Band_1','Band_2','Band_3','Band_2_Band_3','Band_2_Band_1']]\n",
    "y = tree_training.tree\n",
    "X_train, X_test, y_train, y_test = train_test_split(X, y, test_size=0.3, random_state=0)"
   ]
  },
  {
   "cell_type": "code",
   "execution_count": 40,
   "metadata": {
    "scrolled": true
   },
   "outputs": [
    {
     "name": "stdout",
     "output_type": "stream",
     "text": [
      "Optimization terminated successfully.\n",
      "         Current function value: 0.411341\n",
      "         Iterations 7\n",
      "                          Results: Logit\n",
      "===================================================================\n",
      "Model:              Logit            Pseudo R-squared: 0.178       \n",
      "Dependent Variable: tree             AIC:              3786502.3266\n",
      "Date:               2020-05-04 12:49 BIC:              3786569.0373\n",
      "No. Observations:   4602623          Log-Likelihood:   -1.8932e+06 \n",
      "Df Model:           4                LL-Null:          -2.3029e+06 \n",
      "Df Residuals:       4602618          LLR p-value:      0.0000      \n",
      "Converged:          1.0000           Scale:            1.0000      \n",
      "No. Iterations:     7.0000                                         \n",
      "--------------------------------------------------------------------\n",
      "                Coef.   Std.Err.     z      P>|z|    [0.025   0.975]\n",
      "--------------------------------------------------------------------\n",
      "Band_1         -0.0116    0.0001  -80.3315  0.0000  -0.0119  -0.0113\n",
      "Band_2          0.0020    0.0002   13.3384  0.0000   0.0017   0.0023\n",
      "Band_3         -0.0155    0.0002  -72.8779  0.0000  -0.0159  -0.0151\n",
      "Band_2_Band_3   0.7110    0.0098   72.3147  0.0000   0.6917   0.7303\n",
      "Band_2_Band_1  -0.0578    0.0119   -4.8450  0.0000  -0.0812  -0.0344\n",
      "===================================================================\n",
      "\n"
     ]
    }
   ],
   "source": [
    "import statsmodels.api as sm\n",
    "logit_model=sm.Logit(y,X)\n",
    "result=logit_model.fit()\n",
    "print(result.summary2())\n"
   ]
  },
  {
   "cell_type": "code",
   "execution_count": 41,
   "metadata": {},
   "outputs": [
    {
     "data": {
      "text/plain": [
       "LogisticRegression(C=1.0, class_weight=None, dual=False, fit_intercept=True,\n",
       "                   intercept_scaling=1, l1_ratio=None, max_iter=200,\n",
       "                   multi_class='auto', n_jobs=None, penalty='l2',\n",
       "                   random_state=0, solver='lbfgs', tol=0.0001, verbose=0,\n",
       "                   warm_start=False)"
      ]
     },
     "execution_count": 41,
     "metadata": {},
     "output_type": "execute_result"
    }
   ],
   "source": [
    "logreg = LogisticRegression(random_state=0,max_iter=200)\n",
    "logreg.fit(X_train, y_train)\n"
   ]
  },
  {
   "cell_type": "code",
   "execution_count": 42,
   "metadata": {},
   "outputs": [
    {
     "name": "stdout",
     "output_type": "stream",
     "text": [
      "Accuracy of logistic regression classifier on test set: 0.81\n"
     ]
    }
   ],
   "source": [
    "y_pred = logreg.predict(X_test)\n",
    "print('Accuracy of logistic regression classifier on test set: {:.2f}'.format(logreg.score(X_test, y_test)))"
   ]
  },
  {
   "cell_type": "code",
   "execution_count": 52,
   "metadata": {},
   "outputs": [
    {
     "data": {
      "text/plain": [
       "75954"
      ]
     },
     "execution_count": 52,
     "metadata": {},
     "output_type": "execute_result"
    }
   ],
   "source": [
    "y_pred.sum()\n"
   ]
  },
  {
   "cell_type": "code",
   "execution_count": 53,
   "metadata": {},
   "outputs": [
    {
     "data": {
      "text/plain": [
       "275785"
      ]
     },
     "execution_count": 53,
     "metadata": {},
     "output_type": "execute_result"
    }
   ],
   "source": [
    "y_test.sum()\n",
    "\n"
   ]
  },
  {
   "cell_type": "code",
   "execution_count": 43,
   "metadata": {},
   "outputs": [
    {
     "name": "stdout",
     "output_type": "stream",
     "text": [
      "[[1076256   28746]\n",
      " [ 228577   47208]]\n",
      "              precision    recall  f1-score   support\n",
      "\n",
      "           0       0.82      0.97      0.89   1105002\n",
      "           1       0.62      0.17      0.27    275785\n",
      "\n",
      "    accuracy                           0.81   1380787\n",
      "   macro avg       0.72      0.57      0.58   1380787\n",
      "weighted avg       0.78      0.81      0.77   1380787\n",
      "\n"
     ]
    }
   ],
   "source": [
    "from sklearn.metrics import confusion_matrix\n",
    "confusion_matrix = confusion_matrix(y_test, y_pred)\n",
    "print(confusion_matrix)\n",
    "from sklearn.metrics import classification_report\n",
    "print(classification_report(y_test, y_pred))"
   ]
  },
  {
   "cell_type": "code",
   "execution_count": 44,
   "metadata": {},
   "outputs": [
    {
     "data": {
      "image/png": "[encoded data removed]",
      "text/plain": [
       "<Figure size 432x288 with 1 Axes>"
      ]
     },
     "metadata": {},
     "output_type": "display_data"
    }
   ],
   "source": [
    "import matplotlib.pyplot as plt\n",
    "from sklearn.metrics import roc_auc_score\n",
    "from sklearn.metrics import roc_curve\n",
    "logit_roc_auc = roc_auc_score(y_test, logreg.predict(X_test))\n",
    "fpr, tpr, thresholds = roc_curve(y_test, logreg.predict_proba(X_test)[:,1])\n",
    "plt.figure()\n",
    "plt.plot(fpr, tpr, label='Logistic Regression (area = %0.2f)' % logit_roc_auc)\n",
    "plt.plot([0, 1], [0, 1],'r--')\n",
    "plt.xlim([0.0, 1.0])\n",
    "plt.ylim([0.0, 1.05])\n",
    "plt.xlabel('False Positive Rate')\n",
    "plt.ylabel('True Positive Rate')\n",
    "plt.title('Receiver operating characteristic')\n",
    "plt.legend(loc=\"lower right\")\n",
    "plt.savefig('Log_ROC_naip')\n",
    "plt.show()"
   ]
  },
  {
   "cell_type": "code",
   "execution_count": 45,
   "metadata": {},
   "outputs": [
    {
     "name": "stdout",
     "output_type": "stream",
     "text": [
      "[[1076256   28746]\n",
      " [ 228577   47208]]\n",
      "              precision    recall  f1-score   support\n",
      "\n",
      "           0       0.82      0.97      0.89   1105002\n",
      "           1       0.62      0.17      0.27    275785\n",
      "\n",
      "    accuracy                           0.81   1380787\n",
      "   macro avg       0.72      0.57      0.58   1380787\n",
      "weighted avg       0.78      0.81      0.77   1380787\n",
      "\n"
     ]
    }
   ],
   "source": [
    "from sklearn.metrics import confusion_matrix\n",
    "confusion_matrix = confusion_matrix(y_test, y_pred)\n",
    "print(confusion_matrix)\n",
    "from sklearn.metrics import classification_report\n",
    "print(classification_report(y_test, y_pred))"
   ]
  },
  {
   "cell_type": "code",
   "execution_count": 46,
   "metadata": {},
   "outputs": [],
   "source": [
    "#import matplotlib.pyplot as plt\n",
    "# from sklearn.metrics import roc_auc_score\n",
    "# from sklearn.metrics import roc_curve\n",
    "# logit_roc_auc = roc_auc_score(ge_data.tree, logreg.predict(ge_data[['Band_1','Band_2','Band_3','Band_3_Band_2']]))\n",
    "# fpr, tpr, thresholds = roc_curve(ge_data.tree, logreg.predict_proba(ge_data[['Band_1','Band_2','Band_3','Band_3_Band_2']])[:,1])\n",
    "# plt.figure()\n",
    "# plt.plot(fpr, tpr, label='Logistic Regression (area = %0.2f)' % logit_roc_auc)\n",
    "# plt.plot([0, 1], [0, 1],'r--')\n",
    "# plt.xlim([0.0, 1.0])\n",
    "# plt.ylim([0.0, 1.05])\n",
    "# plt.xlabel('False Positive Rate')\n",
    "# plt.ylabel('True Positive Rate')\n",
    "# plt.title('Receiver operating characteristic')\n",
    "# plt.legend(loc=\"lower right\")\n",
    "# plt.savefig('Log_ROC_naip_on_ge')\n",
    "# plt.show()"
   ]
  },
  {
   "cell_type": "code",
   "execution_count": 35,
   "metadata": {},
   "outputs": [
    {
     "data": {
      "text/plain": [
       "0.19995163627349014"
      ]
     },
     "execution_count": 35,
     "metadata": {},
     "output_type": "execute_result"
    }
   ],
   "source": [
    "tree_training.tree.sum()/len(tree_training)"
   ]
  },
  {
   "cell_type": "code",
   "execution_count": 47,
   "metadata": {},
   "outputs": [
    {
     "data": {
      "text/plain": [
       "0.05504339590707299"
      ]
     },
     "execution_count": 47,
     "metadata": {},
     "output_type": "execute_result"
    }
   ],
   "source": [
    "predict = logreg.predict(X)\n",
    "predict.sum()/len(predict)"
   ]
  },
  {
   "cell_type": "code",
   "execution_count": 60,
   "metadata": {},
   "outputs": [
    {
     "data": {
      "text/plain": [
       "0.05500776006726599"
      ]
     },
     "execution_count": 60,
     "metadata": {},
     "output_type": "execute_result"
    }
   ],
   "source": [
    "logreg.predict(X_test).sum()/len(logreg.predict(X_test))"
   ]
  },
  {
   "cell_type": "code",
   "execution_count": 62,
   "metadata": {},
   "outputs": [
    {
     "data": {
      "text/plain": [
       "0.19973029873543133"
      ]
     },
     "execution_count": 62,
     "metadata": {},
     "output_type": "execute_result"
    }
   ],
   "source": [
    "y_test.sum()/len(y_test)"
   ]
  },
  {
   "cell_type": "code",
   "execution_count": 37,
   "metadata": {},
   "outputs": [],
   "source": [
    "tree_training.to_csv('naip_training.csv')"
   ]
  },
  {
   "cell_type": "code",
   "execution_count": 24,
   "metadata": {},
   "outputs": [
    {
     "data": {
      "text/plain": [
       "4602623"
      ]
     },
     "execution_count": 24,
     "metadata": {},
     "output_type": "execute_result"
    }
   ],
   "source": [
    "len(predict)"
   ]
  },
  {
   "cell_type": "code",
   "execution_count": 25,
   "metadata": {},
   "outputs": [],
   "source": [
    "#ge_data = pd.read_csv('google_earth_tree_training.csv')"
   ]
  },
  {
   "cell_type": "code",
   "execution_count": 26,
   "metadata": {},
   "outputs": [],
   "source": [
    "#logreg.score(ge_data[['Band_1','Band_2','Band_3','Band_3_Band_2']],ge_data.tree)"
   ]
  },
  {
   "cell_type": "code",
   "execution_count": null,
   "metadata": {},
   "outputs": [],
   "source": [
    "tree_mask.area"
   ]
  },
  {
   "cell_type": "code",
   "execution_count": null,
   "metadata": {},
   "outputs": [],
   "source": [
    "tree_mask.area/delmar.iloc[0].geometry.area\n"
   ]
  },
  {
   "cell_type": "code",
   "execution_count": 49,
   "metadata": {},
   "outputs": [
    {
     "data": {
      "text/plain": [
       "0.0"
      ]
     },
     "execution_count": 49,
     "metadata": {},
     "output_type": "execute_result"
    }
   ],
   "source": [
    "#nt = pd.read_csv('hro_training.csv')\n",
    "predict = logreg.predict(nt[['Band_1','Band_2','Band_3','Band_2_Band_3','Band_2_Band_1']])\n",
    "predict.sum()/len(predict)"
   ]
  },
  {
   "cell_type": "code",
   "execution_count": 50,
   "metadata": {},
   "outputs": [
    {
     "data": {
      "text/plain": [
       "0.07521922607870846"
      ]
     },
     "execution_count": 50,
     "metadata": {},
     "output_type": "execute_result"
    }
   ],
   "source": [
    "nt = pd.read_csv('ge_training.csv')\n",
    "predict = logreg.predict(nt[['Band_1','Band_2','Band_3','Band_2_Band_3','Band_2_Band_1']])\n",
    "predict.sum()/len(predict)"
   ]
  },
  {
   "cell_type": "code",
   "execution_count": 51,
   "metadata": {},
   "outputs": [
    {
     "data": {
      "text/plain": [
       "0.0"
      ]
     },
     "execution_count": 51,
     "metadata": {},
     "output_type": "execute_result"
    }
   ],
   "source": [
    "nt = pd.read_csv('hro_training.csv')\n",
    "predict = logreg.predict(nt[['Band_1','Band_2','Band_3','Band_2_Band_3','Band_2_Band_1']])\n",
    "predict.sum()/len(predict)"
   ]
  },
  {
   "cell_type": "code",
   "execution_count": null,
   "metadata": {},
   "outputs": [],
   "source": []
  },
  {
   "cell_type": "code",
   "execution_count": null,
   "metadata": {},
   "outputs": [],
   "source": []
  },
  {
   "cell_type": "markdown",
   "metadata": {},
   "source": [
    "## Test On 2016"
   ]
  },
  {
   "cell_type": "code",
   "execution_count": null,
   "metadata": {},
   "outputs": [],
   "source": [
    "boundaryDir = r'data\\boundaries'\n",
    "treeDir = r'data\\trees'\n",
    "img = 'delmarNAIP_2016.tif'\n",
    "delmar = gpd.read_file(os.path.join(boundaryDir,\"DEL_MAR.shp\"))\n",
    "crs_ref  = rasterio.open(os.path.join('data','images',img)).crs\n",
    "delmar = delmar.to_crs(crs_ref)\n",
    "\n",
    "# Read in tree data into correct projection\n",
    "dmtrees = gpd.read_file(os.path.join(treeDir,'delmar_trees.shp'))\n",
    "dmtrees = dmtrees.to_crs(delmar.crs)\n",
    "tree_mask = dmtrees.geometry.unary_union\n"
   ]
  },
  {
   "cell_type": "code",
   "execution_count": null,
   "metadata": {},
   "outputs": [],
   "source": [
    "#crop del mar from image file\n",
    "shapes = delmar['geometry']\n",
    "with rasterio.open(os.path.join('data','images',img)) as src:\n",
    "    out_image, out_transform = rasterio.mask.mask(src, shapes, crop=True)\n",
    "    out_meta = src.meta"
   ]
  },
  {
   "cell_type": "code",
   "execution_count": null,
   "metadata": {},
   "outputs": [],
   "source": [
    "#save del mar raster\n",
    "out_meta.update({\"driver\": \"GTiff\",\n",
    "                 \"height\": out_image.shape[1],\n",
    "                 \"width\": out_image.shape[2],\n",
    "                 \"transform\": out_transform})\n",
    "\n",
    "with rasterio.open(os.path.join('data','images',\"delmar_masked_naip.tif\"), \"w\", **out_meta) as dest:\n",
    "    dest.write(out_image)"
   ]
  },
  {
   "cell_type": "code",
   "execution_count": null,
   "metadata": {},
   "outputs": [],
   "source": [
    "#tree mask\n",
    "dmt = rasterio.open(os.path.join('data','images','delmar_masked_naip_2016.tif'))\n",
    "# crop trees and 'not' trees\n",
    "out_image_trees, out_transform_trees = rasterio.mask.mask(dmt, tree_mask, crop=True, invert = False)\n",
    "out_meta_trees = dmt.meta\n",
    "out_image_not_trees, out_transform_not_trees = rasterio.mask.mask(dmt, tree_mask, crop=False, invert = True)\n",
    "out_meta_not_trees = dmt.meta\n",
    "\n",
    "out_meta_trees.update({\"driver\": \"GTiff\",\n",
    "                 \"height\": out_image_trees.shape[1],\n",
    "                 \"width\": out_image_trees.shape[2],\n",
    "                 \"transform\": out_transform_trees})\n",
    "\n",
    "with rasterio.open(os.path.join('data','images',\"delmar_masked_trees_naip_2016.tif\"), \"w\", **out_meta_trees) as dest:\n",
    "    dest.write(out_image_trees)\n",
    "    \n",
    "    \n",
    "out_meta_not_trees.update({\"driver\": \"GTiff\",\n",
    "                 \"height\": out_image_not_trees.shape[1],\n",
    "                 \"width\": out_image_not_trees.shape[2],\n",
    "                 \"transform\": out_transform_not_trees})\n",
    "\n",
    "with rasterio.open(os.path.join('data','images',\"delmar_masked_not_trees_naip_2016.tif\"), \"w\", **out_meta_not_trees) as dest:\n",
    "    dest.write(out_image_not_trees)"
   ]
  }
 ],
 "metadata": {
  "kernelspec": {
   "display_name": "SanDiego (sandiego_py3)",
   "language": "python",
   "name": "sandiego_py3"
  },
  "language_info": {
   "codemirror_mode": {
    "name": "ipython",
    "version": 3
   },
   "file_extension": ".py",
   "mimetype": "text/x-python",
   "name": "python",
   "nbconvert_exporter": "python",
   "pygments_lexer": "ipython3",
   "version": "3.7.7"
  }
 },
 "nbformat": 4,
 "nbformat_minor": 2
}
