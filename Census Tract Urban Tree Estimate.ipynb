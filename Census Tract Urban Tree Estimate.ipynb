{
 "cells": [
  {
   "cell_type": "code",
   "execution_count": 1,
   "metadata": {},
   "outputs": [],
   "source": [
    "def get_tree_percent(x):\n",
    "    return x['geometry'].intersection(x['geometry_tract']).area/x['geometry_tract'].area\n",
    "#tract_taz['tract_pct'] = tract_taz[['geometry','geometry_taz']].apply(get_percent, axis = 1)\n"
   ]
  },
  {
   "cell_type": "code",
   "execution_count": 2,
   "metadata": {},
   "outputs": [],
   "source": [
    "import pandas as pd\n",
    "import numpy as np\n",
    "import geopandas as gpd\n",
    "import os\n",
    "import gdal\n",
    "import rasterio"
   ]
  },
  {
   "cell_type": "code",
   "execution_count": 3,
   "metadata": {},
   "outputs": [],
   "source": [
    "boundaryDir = r'C:\\Users\\hannah.carson\\Documents\\SAB\\URBAN TREE\\boundaries'"
   ]
  },
  {
   "cell_type": "code",
   "execution_count": 4,
   "metadata": {},
   "outputs": [],
   "source": [
    "muni = gpd.read_file(os.path.join(boundaryDir,'MUNICIPAL_BOUNDARIES.shp'))"
   ]
  },
  {
   "cell_type": "code",
   "execution_count": 5,
   "metadata": {},
   "outputs": [],
   "source": [
    "delmar = gpd.read_file(os.path.join(boundaryDir,\"DEL_MAR.shp\"))\n",
    "#parcel = gpd.read_file(os.path.join(boundaryDir,'PARCELS.shp'))\n",
    "tracts = gpd.read_file(os.path.join(boundaryDir,'CENSUS_TRACTS_2010.shp'))\n",
    "#muni = gpd.read_file(os.path.join(boundaryDir,'MUNICIPAL_BOUNDARIES.shp'))"
   ]
  },
  {
   "cell_type": "code",
   "execution_count": 6,
   "metadata": {},
   "outputs": [],
   "source": [
    "landuse = gpd.read_file(os.path.join(boundaryDir,'LAND_USE_2013.shp'))\n"
   ]
  },
  {
   "cell_type": "code",
   "execution_count": 7,
   "metadata": {},
   "outputs": [],
   "source": [
    "trees = gpd.read_file('TREECANOPY_2014_SANDIEGO.shp')"
   ]
  },
  {
   "cell_type": "code",
   "execution_count": 8,
   "metadata": {},
   "outputs": [
    {
     "data": {
      "text/plain": [
       "{'init': 'epsg:102646'}"
      ]
     },
     "execution_count": 8,
     "metadata": {},
     "output_type": "execute_result"
    }
   ],
   "source": [
    "trees.crs"
   ]
  },
  {
   "cell_type": "code",
   "execution_count": 9,
   "metadata": {},
   "outputs": [
    {
     "data": {
      "text/plain": [
       "{'init': 'epsg:102646'}"
      ]
     },
     "execution_count": 9,
     "metadata": {},
     "output_type": "execute_result"
    }
   ],
   "source": [
    "tracts.crs"
   ]
  },
  {
   "cell_type": "code",
   "execution_count": 10,
   "metadata": {},
   "outputs": [],
   "source": [
    "ctTrees = gpd.sjoin(tracts,trees, op = 'intersects', how = 'right')"
   ]
  },
  {
   "cell_type": "code",
   "execution_count": 11,
   "metadata": {},
   "outputs": [
    {
     "data": {
      "text/html": [
       "<div>\n",
       "<style scoped>\n",
       "    .dataframe tbody tr th:only-of-type {\n",
       "        vertical-align: middle;\n",
       "    }\n",
       "\n",
       "    .dataframe tbody tr th {\n",
       "        vertical-align: top;\n",
       "    }\n",
       "\n",
       "    .dataframe thead th {\n",
       "        text-align: right;\n",
       "    }\n",
       "</style>\n",
       "<table border=\"1\" class=\"dataframe\">\n",
       "  <thead>\n",
       "    <tr style=\"text-align: right;\">\n",
       "      <th></th>\n",
       "      <th>index</th>\n",
       "      <th>TRACT</th>\n",
       "      <th>SHAPE_AREA</th>\n",
       "      <th>SHAPE_LEN</th>\n",
       "      <th>geometry</th>\n",
       "    </tr>\n",
       "  </thead>\n",
       "  <tbody>\n",
       "    <tr>\n",
       "      <th>0</th>\n",
       "      <td>0</td>\n",
       "      <td>15.0</td>\n",
       "      <td>8.693887e+06</td>\n",
       "      <td>12443.272111</td>\n",
       "      <td>POLYGON ((6293438.094999999 1853304.829999998,...</td>\n",
       "    </tr>\n",
       "    <tr>\n",
       "      <th>1</th>\n",
       "      <td>1</td>\n",
       "      <td>16.0</td>\n",
       "      <td>7.407379e+06</td>\n",
       "      <td>11329.616060</td>\n",
       "      <td>POLYGON ((6292472.284999996 1855719.495000005,...</td>\n",
       "    </tr>\n",
       "    <tr>\n",
       "      <th>2</th>\n",
       "      <td>2</td>\n",
       "      <td>17.0</td>\n",
       "      <td>6.714940e+06</td>\n",
       "      <td>10791.678584</td>\n",
       "      <td>POLYGON ((6292613.597000003 1857793.034999996,...</td>\n",
       "    </tr>\n",
       "    <tr>\n",
       "      <th>3</th>\n",
       "      <td>3</td>\n",
       "      <td>18.0</td>\n",
       "      <td>8.036708e+06</td>\n",
       "      <td>13929.689427</td>\n",
       "      <td>POLYGON ((6297364.831 1858582.739749998, 62973...</td>\n",
       "    </tr>\n",
       "    <tr>\n",
       "      <th>4</th>\n",
       "      <td>4</td>\n",
       "      <td>19.0</td>\n",
       "      <td>1.796665e+07</td>\n",
       "      <td>21026.710682</td>\n",
       "      <td>POLYGON ((6296136.003000006 1863452.471000001,...</td>\n",
       "    </tr>\n",
       "  </tbody>\n",
       "</table>\n",
       "</div>"
      ],
      "text/plain": [
       "   index  TRACT    SHAPE_AREA     SHAPE_LEN  \\\n",
       "0      0   15.0  8.693887e+06  12443.272111   \n",
       "1      1   16.0  7.407379e+06  11329.616060   \n",
       "2      2   17.0  6.714940e+06  10791.678584   \n",
       "3      3   18.0  8.036708e+06  13929.689427   \n",
       "4      4   19.0  1.796665e+07  21026.710682   \n",
       "\n",
       "                                            geometry  \n",
       "0  POLYGON ((6293438.094999999 1853304.829999998,...  \n",
       "1  POLYGON ((6292472.284999996 1855719.495000005,...  \n",
       "2  POLYGON ((6292613.597000003 1857793.034999996,...  \n",
       "3  POLYGON ((6297364.831 1858582.739749998, 62973...  \n",
       "4  POLYGON ((6296136.003000006 1863452.471000001,...  "
      ]
     },
     "execution_count": 11,
     "metadata": {},
     "output_type": "execute_result"
    }
   ],
   "source": [
    "tracts.reset_index().head()\n"
   ]
  },
  {
   "cell_type": "code",
   "execution_count": null,
   "metadata": {},
   "outputs": [],
   "source": []
  },
  {
   "cell_type": "code",
   "execution_count": 12,
   "metadata": {},
   "outputs": [],
   "source": [
    "ctTrees = ctTrees.merge(tracts.reset_index().rename(columns = {'index':'index_left','geometry':'geometry_tract'}),how = 'left',on = 'index_left')"
   ]
  },
  {
   "cell_type": "code",
   "execution_count": 14,
   "metadata": {},
   "outputs": [],
   "source": [
    "ctTrees['tree_pct'] = ctTrees.dropna(subset = ['geometry','geometry_tract'])[['geometry','geometry_tract']].apply(get_tree_percent, axis = 1)\n"
   ]
  },
  {
   "cell_type": "code",
   "execution_count": 13,
   "metadata": {},
   "outputs": [
    {
     "data": {
      "text/plain": [
       "index_left                                                      NaN\n",
       "TRACT_x                                                         NaN\n",
       "SHAPE_AREA_x                                                    NaN\n",
       "SHAPE_LEN_x                                                     NaN\n",
       "TreeCanopy                                                        1\n",
       "Shape_Leng                                                  44.0346\n",
       "Shape_Area                                                  130.499\n",
       "geometry          POLYGON ((6251246.160113722 1824999.999918982,...\n",
       "TRACT_y                                                         NaN\n",
       "SHAPE_AREA_y                                                    NaN\n",
       "SHAPE_LEN_y                                                     NaN\n",
       "geometry_tract                                                 None\n",
       "Name: 6153947, dtype: object"
      ]
     },
     "execution_count": 13,
     "metadata": {},
     "output_type": "execute_result"
    }
   ],
   "source": [
    "ctTrees.iloc[6153947]"
   ]
  }
 ],
 "metadata": {
  "kernelspec": {
   "display_name": "SanDiego (sandiego_py3)",
   "language": "python",
   "name": "sandiego_py3"
  },
  "language_info": {
   "codemirror_mode": {
    "name": "ipython",
    "version": 3
   },
   "file_extension": ".py",
   "mimetype": "text/x-python",
   "name": "python",
   "nbconvert_exporter": "python",
   "pygments_lexer": "ipython3",
   "version": "3.6.5"
  }
 },
 "nbformat": 4,
 "nbformat_minor": 2
}
