{
 "cells": [
  {
   "cell_type": "code",
   "execution_count": 1,
   "metadata": {},
   "outputs": [],
   "source": [
    "def get_tree_percent(x):\n",
    "    return x['geometry_tree'].intersection(x['geometry']).area/x['geometry'].area\n",
    "#tract_taz['tract_pct'] = tract_taz[['geometry','geometry_taz']].apply(get_percent, axis = 1)\n"
   ]
  },
  {
   "cell_type": "code",
   "execution_count": 1,
   "metadata": {},
   "outputs": [],
   "source": [
    "import pandas as pd\n",
    "import numpy as np\n",
    "import geopandas as gpd\n",
    "import os\n",
    "import gdal\n",
    "import rasterio"
   ]
  },
  {
   "cell_type": "code",
   "execution_count": 2,
   "metadata": {},
   "outputs": [],
   "source": [
    "boundaryDir = r'data\\boundaries'\n",
    "treeDir = r'data\\trees'"
   ]
  },
  {
   "cell_type": "code",
   "execution_count": 9,
   "metadata": {},
   "outputs": [],
   "source": [
    "muni = gpd.read_file(os.path.join(boundaryDir,'MUNICIPAL_BOUNDARIES.shp'))"
   ]
  },
  {
   "cell_type": "code",
   "execution_count": 10,
   "metadata": {},
   "outputs": [],
   "source": [
    "delmar = gpd.read_file(os.path.join(boundaryDir,\"DEL_MAR.shp\"))\n",
    "#parcel = gpd.read_file(os.path.join(boundaryDir,'PARCELS.shp'))\n",
    "#tracts = gpd.read_file(os.path.join(boundaryDir,'CENSUS_TRACTS_2010.shp'))\n",
    "#muni = gpd.read_file(os.path.join(boundaryDir,'MUNICIPAL_BOUNDARIES.shp'))"
   ]
  },
  {
   "cell_type": "code",
   "execution_count": 11,
   "metadata": {},
   "outputs": [],
   "source": [
    "landuse = gpd.read_file(os.path.join(boundaryDir,'LAND_USE_2013.shp'))\n"
   ]
  },
  {
   "cell_type": "code",
   "execution_count": 11,
   "metadata": {},
   "outputs": [],
   "source": [
    "dmtrees = gpd.read_file(os.path.join(treeDir,'delmar_trees.shp'))"
   ]
  },
  {
   "cell_type": "markdown",
   "metadata": {},
   "source": [
    "## Process Raster Data"
   ]
  },
  {
   "cell_type": "code",
   "execution_count": 4,
   "metadata": {},
   "outputs": [],
   "source": [
    "# rasterio.open??\n",
    "dmt = rasterio.open(os.path.join('data','images','delMar_2014_georeferenced.png'), crs = 'epsg:4326')"
   ]
  },
  {
   "cell_type": "code",
   "execution_count": 16,
   "metadata": {},
   "outputs": [
    {
     "data": {
      "text/plain": [
       "array([[ 50,  59,  61, ...,  99, 100, 100],\n",
       "       [ 54,  58,  59, ..., 109, 112, 112],\n",
       "       [ 56,  58,  55, ..., 113, 115, 115],\n",
       "       ...,\n",
       "       [ 63,  66,  65, ...,  58,  52,  52],\n",
       "       [ 67,  68,  66, ...,  54,  49,  49],\n",
       "       [ 68,  68,  65, ...,  51,  50,  50]], dtype=uint8)"
      ]
     },
     "execution_count": 16,
     "metadata": {},
     "output_type": "execute_result"
    }
   ],
   "source": [
    "dmt.read(1)"
   ]
  },
  {
   "cell_type": "code",
   "execution_count": 6,
   "metadata": {},
   "outputs": [
    {
     "data": {
      "text/plain": [
       "BoundingBox(left=-117.31494535559315, bottom=32.93595901336535, right=-117.21534485643745, top=32.98299379215335)"
      ]
     },
     "execution_count": 6,
     "metadata": {},
     "output_type": "execute_result"
    }
   ],
   "source": [
    "dmt.bounds"
   ]
  },
  {
   "cell_type": "code",
   "execution_count": 7,
   "metadata": {},
   "outputs": [
    {
     "data": {
      "text/plain": [
       "(1080, 2287)"
      ]
     },
     "execution_count": 7,
     "metadata": {},
     "output_type": "execute_result"
    }
   ],
   "source": [
    "dmt.shape\n"
   ]
  },
  {
   "cell_type": "code",
   "execution_count": 8,
   "metadata": {},
   "outputs": [],
   "source": [
    "red = dmt.read(1)"
   ]
  },
  {
   "cell_type": "code",
   "execution_count": 9,
   "metadata": {},
   "outputs": [
    {
     "data": {
      "text/plain": [
       "array([[ 50,  59,  61, ...,  99, 100, 100],\n",
       "       [ 54,  58,  59, ..., 109, 112, 112],\n",
       "       [ 56,  58,  55, ..., 113, 115, 115],\n",
       "       ...,\n",
       "       [ 63,  66,  65, ...,  58,  52,  52],\n",
       "       [ 67,  68,  66, ...,  54,  49,  49],\n",
       "       [ 68,  68,  65, ...,  51,  50,  50]], dtype=uint8)"
      ]
     },
     "execution_count": 9,
     "metadata": {},
     "output_type": "execute_result"
    }
   ],
   "source": [
    "red"
   ]
  },
  {
   "cell_type": "code",
   "execution_count": 36,
   "metadata": {},
   "outputs": [],
   "source": [
    "green = dmt.read(2)"
   ]
  },
  {
   "cell_type": "code",
   "execution_count": 37,
   "metadata": {},
   "outputs": [],
   "source": [
    "blue = dmt.read(3)\n"
   ]
  },
  {
   "cell_type": "code",
   "execution_count": 39,
   "metadata": {},
   "outputs": [
    {
     "ename": "CRSError",
     "evalue": "CRS is invalid: None",
     "output_type": "error",
     "traceback": [
      "\u001b[1;31m---------------------------------------------------------------------------\u001b[0m",
      "\u001b[1;31mCRSError\u001b[0m                                  Traceback (most recent call last)",
      "\u001b[1;32m<ipython-input-39-adc1f782ee85>\u001b[0m in \u001b[0;36m<module>\u001b[1;34m()\u001b[0m\n\u001b[1;32m----> 1\u001b[1;33m \u001b[0mdmt\u001b[0m\u001b[1;33m.\u001b[0m\u001b[0mlnglat\u001b[0m\u001b[1;33m(\u001b[0m\u001b[1;33m)\u001b[0m\u001b[1;33m\u001b[0m\u001b[0m\n\u001b[0m",
      "\u001b[1;32mrasterio\\_base.pyx\u001b[0m in \u001b[0;36mrasterio._base.DatasetBase.lnglat\u001b[1;34m()\u001b[0m\n",
      "\u001b[1;32mrasterio\\_base.pyx\u001b[0m in \u001b[0;36mrasterio._base._transform\u001b[1;34m()\u001b[0m\n",
      "\u001b[1;32mrasterio\\_base.pyx\u001b[0m in \u001b[0;36mrasterio._base._osr_from_crs\u001b[1;34m()\u001b[0m\n",
      "\u001b[1;32mC:\\anaconda3\\envs\\sandiego_py3\\lib\\site-packages\\rasterio\\crs.py\u001b[0m in \u001b[0;36mfrom_user_input\u001b[1;34m(cls, value, morph_from_esri_dialect)\u001b[0m\n\u001b[0;32m    435\u001b[0m             \u001b[1;32mreturn\u001b[0m \u001b[0mobj\u001b[0m\u001b[1;33m\u001b[0m\u001b[0m\n\u001b[0;32m    436\u001b[0m         \u001b[1;32melse\u001b[0m\u001b[1;33m:\u001b[0m\u001b[1;33m\u001b[0m\u001b[0m\n\u001b[1;32m--> 437\u001b[1;33m             \u001b[1;32mraise\u001b[0m \u001b[0mCRSError\u001b[0m\u001b[1;33m(\u001b[0m\u001b[1;34m\"CRS is invalid: {!r}\"\u001b[0m\u001b[1;33m.\u001b[0m\u001b[0mformat\u001b[0m\u001b[1;33m(\u001b[0m\u001b[0mvalue\u001b[0m\u001b[1;33m)\u001b[0m\u001b[1;33m)\u001b[0m\u001b[1;33m\u001b[0m\u001b[0m\n\u001b[0m",
      "\u001b[1;31mCRSError\u001b[0m: CRS is invalid: None"
     ]
    }
   ],
   "source": [
    "dmt.lnglat()"
   ]
  },
  {
   "cell_type": "code",
   "execution_count": 14,
   "metadata": {},
   "outputs": [
    {
     "data": {
      "text/plain": [
       "CRS.from_dict(init='epsg:3857')"
      ]
     },
     "execution_count": 14,
     "metadata": {},
     "output_type": "execute_result"
    }
   ],
   "source": [
    "dmt.crs# = rasterio.crs.CRS.from_epsg(4326)\n"
   ]
  },
  {
   "cell_type": "code",
   "execution_count": 28,
   "metadata": {},
   "outputs": [
    {
     "data": {
      "text/plain": [
       "array([256, 256, 256, ..., 256, 256, 256], dtype=uint16)"
      ]
     },
     "execution_count": 28,
     "metadata": {},
     "output_type": "execute_result"
    }
   ],
   "source": [
    "green[1040]"
   ]
  },
  {
   "cell_type": "code",
   "execution_count": 16,
   "metadata": {},
   "outputs": [],
   "source": [
    "delmar = delmar.to_crs({'init':'epsg:3857'})"
   ]
  },
  {
   "cell_type": "code",
   "execution_count": 17,
   "metadata": {},
   "outputs": [
    {
     "ename": "AttributeError",
     "evalue": "'DatasetReader' object has no attribute 'intersects'",
     "output_type": "error",
     "traceback": [
      "\u001b[1;31m---------------------------------------------------------------------------\u001b[0m",
      "\u001b[1;31mAttributeError\u001b[0m                            Traceback (most recent call last)",
      "\u001b[1;32m<ipython-input-17-df3a3ff13a91>\u001b[0m in \u001b[0;36m<module>\u001b[1;34m()\u001b[0m\n\u001b[1;32m----> 1\u001b[1;33m \u001b[0mdmt\u001b[0m\u001b[1;33m[\u001b[0m\u001b[0mdmt\u001b[0m\u001b[1;33m.\u001b[0m\u001b[0mintersects\u001b[0m\u001b[1;33m(\u001b[0m\u001b[0mdelmar\u001b[0m\u001b[1;33m.\u001b[0m\u001b[0munary_union\u001b[0m\u001b[1;33m)\u001b[0m\u001b[1;33m]\u001b[0m\u001b[1;33m\u001b[0m\u001b[0m\n\u001b[0m",
      "\u001b[1;31mAttributeError\u001b[0m: 'DatasetReader' object has no attribute 'intersects'"
     ]
    }
   ],
   "source": [
    "dmt[dmt.intersects(delmar.unary_union)]"
   ]
  },
  {
   "cell_type": "code",
   "execution_count": null,
   "metadata": {},
   "outputs": [],
   "source": []
  }
 ],
 "metadata": {
  "kernelspec": {
   "display_name": "SanDiego (sandiego_py3)",
   "language": "python",
   "name": "sandiego_py3"
  },
  "language_info": {
   "codemirror_mode": {
    "name": "ipython",
    "version": 3
   },
   "file_extension": ".py",
   "mimetype": "text/x-python",
   "name": "python",
   "nbconvert_exporter": "python",
   "pygments_lexer": "ipython3",
   "version": "3.7.7"
  }
 },
 "nbformat": 4,
 "nbformat_minor": 2
}
