{
 "cells": [
  {
   "cell_type": "code",
   "execution_count": 1,
   "metadata": {},
   "outputs": [],
   "source": [
    "def get_tree_percent(x):\n",
    "    return x['geometry_tree'].intersection(x['geometry']).area/x['geometry'].area\n",
    "#tract_taz['tract_pct'] = tract_taz[['geometry','geometry_taz']].apply(get_percent, axis = 1)\n"
   ]
  },
  {
   "cell_type": "code",
   "execution_count": 15,
   "metadata": {},
   "outputs": [],
   "source": [
    "import pandas as pd\n",
    "import numpy as np\n",
    "import geopandas as gpd\n",
    "import os\n",
    "import gdal\n",
    "import rasterio\n",
    "import fiona\n",
    "import rasterio.mask"
   ]
  },
  {
   "cell_type": "code",
   "execution_count": 53,
   "metadata": {},
   "outputs": [],
   "source": [
    "from rastertodataframe import raster_to_dataframe"
   ]
  },
  {
   "cell_type": "code",
   "execution_count": 17,
   "metadata": {},
   "outputs": [],
   "source": [
    "boundaryDir = r'data\\boundaries'\n",
    "treeDir = r'data\\trees'"
   ]
  },
  {
   "cell_type": "code",
   "execution_count": 9,
   "metadata": {},
   "outputs": [],
   "source": [
    "muni = gpd.read_file(os.path.join(boundaryDir,'MUNICIPAL_BOUNDARIES.shp'))"
   ]
  },
  {
   "cell_type": "code",
   "execution_count": 18,
   "metadata": {},
   "outputs": [],
   "source": [
    "delmar = gpd.read_file(os.path.join(boundaryDir,\"DEL_MAR.shp\"))\n",
    "#parcel = gpd.read_file(os.path.join(boundaryDir,'PARCELS.shp'))\n",
    "#tracts = gpd.read_file(os.path.join(boundaryDir,'CENSUS_TRACTS_2010.shp'))\n",
    "#muni = gpd.read_file(os.path.join(boundaryDir,'MUNICIPAL_BOUNDARIES.shp'))"
   ]
  },
  {
   "cell_type": "code",
   "execution_count": 19,
   "metadata": {},
   "outputs": [
    {
     "data": {
      "text/plain": [
       "{'init': 'epsg:4326'}"
      ]
     },
     "execution_count": 19,
     "metadata": {},
     "output_type": "execute_result"
    }
   ],
   "source": [
    "delmar.crs"
   ]
  },
  {
   "cell_type": "code",
   "execution_count": 11,
   "metadata": {},
   "outputs": [],
   "source": [
    "landuse = gpd.read_file(os.path.join(boundaryDir,'LAND_USE_2013.shp'))\n"
   ]
  },
  {
   "cell_type": "code",
   "execution_count": 31,
   "metadata": {},
   "outputs": [],
   "source": [
    "dmtrees = gpd.read_file(os.path.join(treeDir,'delmar_trees.shp'))"
   ]
  },
  {
   "cell_type": "code",
   "execution_count": 36,
   "metadata": {},
   "outputs": [],
   "source": [
    "tree_mask = dmtrees.geometry.unary_union\n"
   ]
  },
  {
   "cell_type": "markdown",
   "metadata": {},
   "source": [
    "## Process Raster Data"
   ]
  },
  {
   "cell_type": "code",
   "execution_count": 21,
   "metadata": {},
   "outputs": [],
   "source": [
    "# rasterio.open??\n",
    "dmt = rasterio.open(os.path.join('data','images','delMar_2014_georeferenced.png'), crs = 'epsg:4326')"
   ]
  },
  {
   "cell_type": "code",
   "execution_count": 27,
   "metadata": {},
   "outputs": [],
   "source": [
    "#crop del mar from raster\n",
    "shapes = [list(delmar['geometry'])]\n",
    "#with rasterio.open(os.path.join('data','images','delMar_2014_georeferenced.png'), crs = 'epsg:4326') as src:\n",
    "out_image, out_transform = rasterio.mask.mask(dmt, shapes, crop=True)\n",
    "out_meta = src.meta"
   ]
  },
  {
   "cell_type": "code",
   "execution_count": 30,
   "metadata": {},
   "outputs": [],
   "source": [
    "#save del mar raster\n",
    "out_meta.update({\"driver\": \"GTiff\",\n",
    "                 \"height\": out_image.shape[1],\n",
    "                 \"width\": out_image.shape[2],\n",
    "                 \"transform\": out_transform})\n",
    "\n",
    "with rasterio.open(os.path.join('data','images',\"delmar_masked.tif\"), \"w\", **out_meta) as dest:\n",
    "    dest.write(out_image)"
   ]
  },
  {
   "cell_type": "code",
   "execution_count": 37,
   "metadata": {},
   "outputs": [],
   "source": [
    "#tree mask\n",
    "dmt = rasterio.open(os.path.join('data','images','delmar_masked.tif'), crs = 'epsg:4326')"
   ]
  },
  {
   "cell_type": "code",
   "execution_count": 64,
   "metadata": {},
   "outputs": [],
   "source": [
    "out_image_trees, out_transform_trees = rasterio.mask.mask(dmt, tree_mask, crop=False, invert = True)\n",
    "out_meta_trees = src.meta\n",
    "out_image_not_trees, out_transform_not_trees = rasterio.mask.mask(dmt, tree_mask, crop=False, invert = False)\n",
    "out_meta_not_trees = src.meta\n"
   ]
  },
  {
   "cell_type": "code",
   "execution_count": 65,
   "metadata": {},
   "outputs": [],
   "source": [
    "out_meta_trees.update({\"driver\": \"GTiff\",\n",
    "                 \"height\": out_image.shape[1],\n",
    "                 \"width\": out_image.shape[2],\n",
    "                 \"transform\": out_transform})\n",
    "\n",
    "with rasterio.open(os.path.join('data','images',\"delmar_masked_trees.tif\"), \"w\", **out_meta_trees) as dest:\n",
    "    dest.write(out_image_trees)"
   ]
  },
  {
   "cell_type": "code",
   "execution_count": 66,
   "metadata": {},
   "outputs": [],
   "source": [
    "out_meta_not_trees.update({\"driver\": \"GTiff\",\n",
    "                 \"height\": out_image.shape[1],\n",
    "                 \"width\": out_image.shape[2],\n",
    "                 \"transform\": out_transform})\n",
    "\n",
    "with rasterio.open(os.path.join('data','images',\"delmar_masked_not_trees.tif\"), \"w\", **out_meta_not_trees) as dest:\n",
    "    dest.write(out_image_not_trees)"
   ]
  },
  {
   "cell_type": "code",
   "execution_count": null,
   "metadata": {},
   "outputs": [],
   "source": []
  },
  {
   "cell_type": "markdown",
   "metadata": {},
   "source": [
    "# Load Training Data"
   ]
  },
  {
   "cell_type": "code",
   "execution_count": 71,
   "metadata": {},
   "outputs": [],
   "source": [
    "dmtgrtree = raster_to_dataframe(os.path.join('data','images','delmar_masked_trees.tif'))\n",
    "dmtgrtree['tree'] = 1"
   ]
  },
  {
   "cell_type": "code",
   "execution_count": 72,
   "metadata": {},
   "outputs": [],
   "source": [
    "dmtgrntree = raster_to_dataframe(os.path.join('data','images','delmar_masked_not_trees.tif'))\n",
    "dmtgrntree['tree'] = 0"
   ]
  },
  {
   "cell_type": "code",
   "execution_count": 73,
   "metadata": {},
   "outputs": [],
   "source": [
    "tree_training = pd.concat([dmtgrtree,dmtgrntree], axis = 0)"
   ]
  },
  {
   "cell_type": "code",
   "execution_count": 74,
   "metadata": {},
   "outputs": [
    {
     "data": {
      "text/html": [
       "<div>\n",
       "<style scoped>\n",
       "    .dataframe tbody tr th:only-of-type {\n",
       "        vertical-align: middle;\n",
       "    }\n",
       "\n",
       "    .dataframe tbody tr th {\n",
       "        vertical-align: top;\n",
       "    }\n",
       "\n",
       "    .dataframe thead th {\n",
       "        text-align: right;\n",
       "    }\n",
       "</style>\n",
       "<table border=\"1\" class=\"dataframe\">\n",
       "  <thead>\n",
       "    <tr style=\"text-align: right;\">\n",
       "      <th></th>\n",
       "      <th>Band_1</th>\n",
       "      <th>Band_2</th>\n",
       "      <th>Band_3</th>\n",
       "      <th>Band_4</th>\n",
       "      <th>tree</th>\n",
       "    </tr>\n",
       "  </thead>\n",
       "  <tbody>\n",
       "    <tr>\n",
       "      <th>Band_1</th>\n",
       "      <td>1.000000</td>\n",
       "      <td>0.996181</td>\n",
       "      <td>0.991689</td>\n",
       "      <td>0.922184</td>\n",
       "      <td>0.400241</td>\n",
       "    </tr>\n",
       "    <tr>\n",
       "      <th>Band_2</th>\n",
       "      <td>0.996181</td>\n",
       "      <td>1.000000</td>\n",
       "      <td>0.995577</td>\n",
       "      <td>0.925592</td>\n",
       "      <td>0.398067</td>\n",
       "    </tr>\n",
       "    <tr>\n",
       "      <th>Band_3</th>\n",
       "      <td>0.991689</td>\n",
       "      <td>0.995577</td>\n",
       "      <td>1.000000</td>\n",
       "      <td>0.898449</td>\n",
       "      <td>0.393103</td>\n",
       "    </tr>\n",
       "    <tr>\n",
       "      <th>Band_4</th>\n",
       "      <td>0.922184</td>\n",
       "      <td>0.925592</td>\n",
       "      <td>0.898449</td>\n",
       "      <td>1.000000</td>\n",
       "      <td>0.396207</td>\n",
       "    </tr>\n",
       "    <tr>\n",
       "      <th>tree</th>\n",
       "      <td>0.400241</td>\n",
       "      <td>0.398067</td>\n",
       "      <td>0.393103</td>\n",
       "      <td>0.396207</td>\n",
       "      <td>1.000000</td>\n",
       "    </tr>\n",
       "  </tbody>\n",
       "</table>\n",
       "</div>"
      ],
      "text/plain": [
       "          Band_1    Band_2    Band_3    Band_4      tree\n",
       "Band_1  1.000000  0.996181  0.991689  0.922184  0.400241\n",
       "Band_2  0.996181  1.000000  0.995577  0.925592  0.398067\n",
       "Band_3  0.991689  0.995577  1.000000  0.898449  0.393103\n",
       "Band_4  0.922184  0.925592  0.898449  1.000000  0.396207\n",
       "tree    0.400241  0.398067  0.393103  0.396207  1.000000"
      ]
     },
     "execution_count": 74,
     "metadata": {},
     "output_type": "execute_result"
    }
   ],
   "source": [
    "tree_training.corr()"
   ]
  }
 ],
 "metadata": {
  "kernelspec": {
   "display_name": "SanDiego (sandiego_py3)",
   "language": "python",
   "name": "sandiego_py3"
  },
  "language_info": {
   "codemirror_mode": {
    "name": "ipython",
    "version": 3
   },
   "file_extension": ".py",
   "mimetype": "text/x-python",
   "name": "python",
   "nbconvert_exporter": "python",
   "pygments_lexer": "ipython3",
   "version": "3.7.7"
  }
 },
 "nbformat": 4,
 "nbformat_minor": 2
}
