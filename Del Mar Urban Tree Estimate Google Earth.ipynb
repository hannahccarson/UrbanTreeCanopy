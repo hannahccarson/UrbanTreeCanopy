{
 "cells": [
  {
   "cell_type": "code",
   "execution_count": 1,
   "metadata": {},
   "outputs": [],
   "source": [
    "def get_tree_percent(x):\n",
    "    return x['geometry_tree'].intersection(x['geometry']).area/x['geometry'].area\n",
    "#tract_taz['tract_pct'] = tract_taz[['geometry','geometry_taz']].apply(get_percent, axis = 1)\n"
   ]
  },
  {
   "cell_type": "code",
   "execution_count": 2,
   "metadata": {},
   "outputs": [],
   "source": [
    "def ix2xy(r,c,gt):\n",
    "    '''Gets x,y from row and column'''\n",
    "    x = gt[0] + r * gt[1]\n",
    "    y = gt[3] + c * gt[5]\n",
    "    return(x,y)"
   ]
  },
  {
   "cell_type": "code",
   "execution_count": 3,
   "metadata": {},
   "outputs": [],
   "source": [
    "import pandas as pd\n",
    "import numpy as np\n",
    "import geopandas as gpd\n",
    "import os\n",
    "import gdal\n",
    "import rasterio\n",
    "import fiona\n",
    "import rasterio.mask\n",
    "from rastertodataframe import raster_to_dataframe\n",
    "import itertools\n",
    "import matplotlib.pyplot as plt"
   ]
  },
  {
   "cell_type": "markdown",
   "metadata": {},
   "source": [
    "## Read in Image Data"
   ]
  },
  {
   "cell_type": "code",
   "execution_count": 4,
   "metadata": {},
   "outputs": [],
   "source": [
    "boundaryDir = r'data\\boundaries'\n",
    "treeDir = r'data\\trees'\n",
    "img = 'delMar_2014_3_georeferenced.png'"
   ]
  },
  {
   "cell_type": "code",
   "execution_count": 5,
   "metadata": {},
   "outputs": [],
   "source": [
    "delmar = gpd.read_file(os.path.join(boundaryDir,\"DEL_MAR.shp\"))\n",
    "crs_ref  = rasterio.open(os.path.join('data','images',img)).crs\n",
    "delmar = delmar.to_crs(crs_ref)"
   ]
  },
  {
   "cell_type": "code",
   "execution_count": 6,
   "metadata": {},
   "outputs": [],
   "source": [
    "# Read in tree data into correct projection\n",
    "dmtrees = gpd.read_file(os.path.join(treeDir,'delmar_trees.shp'))\n",
    "dmtrees = dmtrees.to_crs(delmar.crs)\n",
    "tree_mask = dmtrees.geometry.unary_union\n"
   ]
  },
  {
   "cell_type": "markdown",
   "metadata": {},
   "source": [
    "## Process Raster Data"
   ]
  },
  {
   "cell_type": "code",
   "execution_count": 7,
   "metadata": {},
   "outputs": [],
   "source": [
    "#crop del mar from image file\n",
    "shapes = delmar['geometry']\n",
    "with rasterio.open(os.path.join('data','images',img)) as src:\n",
    "    out_image, out_transform = rasterio.mask.mask(src, shapes, crop=True)\n",
    "    out_meta = src.meta"
   ]
  },
  {
   "cell_type": "code",
   "execution_count": 8,
   "metadata": {},
   "outputs": [],
   "source": [
    "#save del mar raster\n",
    "out_meta.update({\"driver\": \"GTiff\",\n",
    "                 \"height\": out_image.shape[1],\n",
    "                 \"width\": out_image.shape[2],\n",
    "                 \"transform\": out_transform})\n",
    "\n",
    "with rasterio.open(os.path.join('data','images',\"delmar_masked_GE.tif\"), \"w\", **out_meta) as dest:\n",
    "    dest.write(out_image)"
   ]
  },
  {
   "cell_type": "code",
   "execution_count": 9,
   "metadata": {},
   "outputs": [],
   "source": [
    "#tree mask\n",
    "dmt = rasterio.open(os.path.join('data','images','delmar_masked_GE.tif'))"
   ]
  },
  {
   "cell_type": "code",
   "execution_count": 10,
   "metadata": {},
   "outputs": [],
   "source": [
    "# crop trees and 'not' trees\n",
    "out_image_trees, out_transform_trees = rasterio.mask.mask(dmt, tree_mask, crop=True, invert = False)\n",
    "out_meta_trees = dmt.meta\n",
    "out_image_not_trees, out_transform_not_trees = rasterio.mask.mask(dmt, tree_mask, crop=False, invert = True)\n",
    "out_meta_not_trees = dmt.meta\n"
   ]
  },
  {
   "cell_type": "code",
   "execution_count": 11,
   "metadata": {},
   "outputs": [],
   "source": [
    "out_meta_trees.update({\"driver\": \"GTiff\",\n",
    "                 \"height\": out_image_trees.shape[1],\n",
    "                 \"width\": out_image_trees.shape[2],\n",
    "                 \"transform\": out_transform_trees})\n",
    "\n",
    "with rasterio.open(os.path.join('data','images',\"delmar_masked_trees_GE.tif\"), \"w\", **out_meta_trees) as dest:\n",
    "    dest.write(out_image_trees)"
   ]
  },
  {
   "cell_type": "code",
   "execution_count": 12,
   "metadata": {},
   "outputs": [],
   "source": [
    "out_meta_not_trees.update({\"driver\": \"GTiff\",\n",
    "                 \"height\": out_image_not_trees.shape[1],\n",
    "                 \"width\": out_image_not_trees.shape[2],\n",
    "                 \"transform\": out_transform_not_trees})\n",
    "\n",
    "with rasterio.open(os.path.join('data','images',\"delmar_masked_not_trees_GE.tif\"), \"w\", **out_meta_not_trees) as dest:\n",
    "    dest.write(out_image_not_trees)"
   ]
  },
  {
   "cell_type": "markdown",
   "metadata": {},
   "source": [
    "# Load Training Data"
   ]
  },
  {
   "cell_type": "code",
   "execution_count": 13,
   "metadata": {},
   "outputs": [],
   "source": [
    "#ds = gdal.Open(os.path.join('data','images','delmar_masked.tif'))\n",
    "#gt = ds.GetGeoTransform()\n",
    "\n",
    "\n",
    "#df = pd.DataFrame.from_records(itertools.product(range(ds.RasterYSize),range(ds.RasterXSize)),columns=['Row','Column'])\n",
    "\n",
    "#ds = None\n",
    "\n",
    "#df['X'], df['Y'] = zip(*df.apply(lambda x: ix2xy(x['Column'],x['Row'],gt),axis=1))"
   ]
  },
  {
   "cell_type": "code",
   "execution_count": 14,
   "metadata": {},
   "outputs": [],
   "source": [
    "# Load Trees to DataFrame\n",
    "dmtgrtree = raster_to_dataframe(os.path.join('data','images','delmar_masked_trees_GE.tif'))\n",
    "dmtgrtree['tree'] = 1"
   ]
  },
  {
   "cell_type": "code",
   "execution_count": 15,
   "metadata": {},
   "outputs": [],
   "source": [
    "# Load Not Trees to DataFrame\n",
    "dmtgrntree = raster_to_dataframe(os.path.join('data','images','delmar_masked_not_trees_GE.tif'))\n",
    "dmtgrntree['tree'] = 0"
   ]
  },
  {
   "cell_type": "code",
   "execution_count": 35,
   "metadata": {},
   "outputs": [],
   "source": [
    "# clip no data values\n",
    "dmtgrtree['summy'] = dmtgrtree.Band_1+dmtgrtree.Band_2+dmtgrtree.Band_3#+dmtgrtree.Band_4\n",
    "dmtgrntree['summy'] = dmtgrntree.Band_1+dmtgrntree.Band_2+dmtgrntree.Band_3#+dmtgrntree.Band_4\n",
    "tree_training = pd.concat([dmtgrtree[dmtgrtree.summy >0],dmtgrntree[dmtgrntree.summy > 0]], axis = 0)\n",
    "tree_training = tree_training[['Band_1','Band_2','Band_3','tree']].rename(columns = {'Band_1':'R','Band_2':'G','Band_3':'B'})"
   ]
  },
  {
   "cell_type": "code",
   "execution_count": 36,
   "metadata": {},
   "outputs": [],
   "source": [
    "# Calculate Ratios\n",
    "bands = ['R','G','B']#, 'Band_4']\n",
    "for b in bands:\n",
    "    for r in bands:\n",
    "        if b==r: continue\n",
    "        tree_training['{}_{}'.format(b,r)] = tree_training[b]/tree_training[r]"
   ]
  },
  {
   "cell_type": "code",
   "execution_count": 37,
   "metadata": {},
   "outputs": [
    {
     "data": {
      "text/html": [
       "<div>\n",
       "<style scoped>\n",
       "    .dataframe tbody tr th:only-of-type {\n",
       "        vertical-align: middle;\n",
       "    }\n",
       "\n",
       "    .dataframe tbody tr th {\n",
       "        vertical-align: top;\n",
       "    }\n",
       "\n",
       "    .dataframe thead th {\n",
       "        text-align: right;\n",
       "    }\n",
       "</style>\n",
       "<table border=\"1\" class=\"dataframe\">\n",
       "  <thead>\n",
       "    <tr style=\"text-align: right;\">\n",
       "      <th></th>\n",
       "      <th>R</th>\n",
       "      <th>G</th>\n",
       "      <th>B</th>\n",
       "      <th>tree</th>\n",
       "      <th>R_G</th>\n",
       "      <th>R_B</th>\n",
       "      <th>G_R</th>\n",
       "      <th>G_B</th>\n",
       "      <th>B_R</th>\n",
       "      <th>B_G</th>\n",
       "    </tr>\n",
       "  </thead>\n",
       "  <tbody>\n",
       "    <tr>\n",
       "      <th>R</th>\n",
       "      <td>1.000000</td>\n",
       "      <td>0.899072</td>\n",
       "      <td>0.846769</td>\n",
       "      <td>-0.125335</td>\n",
       "      <td>0.153932</td>\n",
       "      <td>-0.263750</td>\n",
       "      <td>-0.153750</td>\n",
       "      <td>-0.444605</td>\n",
       "      <td>0.266622</td>\n",
       "      <td>0.447490</td>\n",
       "    </tr>\n",
       "    <tr>\n",
       "      <th>G</th>\n",
       "      <td>0.899072</td>\n",
       "      <td>1.000000</td>\n",
       "      <td>0.898994</td>\n",
       "      <td>-0.116350</td>\n",
       "      <td>0.045389</td>\n",
       "      <td>-0.342506</td>\n",
       "      <td>-0.045207</td>\n",
       "      <td>-0.462489</td>\n",
       "      <td>0.345384</td>\n",
       "      <td>0.465381</td>\n",
       "    </tr>\n",
       "    <tr>\n",
       "      <th>B</th>\n",
       "      <td>0.846769</td>\n",
       "      <td>0.898994</td>\n",
       "      <td>1.000000</td>\n",
       "      <td>-0.121660</td>\n",
       "      <td>0.033450</td>\n",
       "      <td>-0.424837</td>\n",
       "      <td>-0.033269</td>\n",
       "      <td>-0.571655</td>\n",
       "      <td>0.427721</td>\n",
       "      <td>0.574552</td>\n",
       "    </tr>\n",
       "    <tr>\n",
       "      <th>tree</th>\n",
       "      <td>-0.125335</td>\n",
       "      <td>-0.116350</td>\n",
       "      <td>-0.121660</td>\n",
       "      <td>1.000000</td>\n",
       "      <td>-0.079001</td>\n",
       "      <td>0.054447</td>\n",
       "      <td>0.078985</td>\n",
       "      <td>0.110904</td>\n",
       "      <td>-0.054677</td>\n",
       "      <td>-0.111130</td>\n",
       "    </tr>\n",
       "    <tr>\n",
       "      <th>R_G</th>\n",
       "      <td>0.153932</td>\n",
       "      <td>0.045389</td>\n",
       "      <td>0.033450</td>\n",
       "      <td>-0.079001</td>\n",
       "      <td>1.000000</td>\n",
       "      <td>0.379423</td>\n",
       "      <td>-0.999819</td>\n",
       "      <td>0.030730</td>\n",
       "      <td>-0.380059</td>\n",
       "      <td>-0.031353</td>\n",
       "    </tr>\n",
       "    <tr>\n",
       "      <th>R_B</th>\n",
       "      <td>-0.263750</td>\n",
       "      <td>-0.342506</td>\n",
       "      <td>-0.424837</td>\n",
       "      <td>0.054447</td>\n",
       "      <td>0.379423</td>\n",
       "      <td>1.000000</td>\n",
       "      <td>-0.379268</td>\n",
       "      <td>0.652622</td>\n",
       "      <td>-0.997127</td>\n",
       "      <td>-0.649762</td>\n",
       "    </tr>\n",
       "    <tr>\n",
       "      <th>G_R</th>\n",
       "      <td>-0.153750</td>\n",
       "      <td>-0.045207</td>\n",
       "      <td>-0.033269</td>\n",
       "      <td>0.078985</td>\n",
       "      <td>-0.999819</td>\n",
       "      <td>-0.379268</td>\n",
       "      <td>1.000000</td>\n",
       "      <td>-0.030549</td>\n",
       "      <td>0.380240</td>\n",
       "      <td>0.031534</td>\n",
       "    </tr>\n",
       "    <tr>\n",
       "      <th>G_B</th>\n",
       "      <td>-0.444605</td>\n",
       "      <td>-0.462489</td>\n",
       "      <td>-0.571655</td>\n",
       "      <td>0.110904</td>\n",
       "      <td>0.030730</td>\n",
       "      <td>0.652622</td>\n",
       "      <td>-0.030549</td>\n",
       "      <td>1.000000</td>\n",
       "      <td>-0.649749</td>\n",
       "      <td>-0.997114</td>\n",
       "    </tr>\n",
       "    <tr>\n",
       "      <th>B_R</th>\n",
       "      <td>0.266622</td>\n",
       "      <td>0.345384</td>\n",
       "      <td>0.427721</td>\n",
       "      <td>-0.054677</td>\n",
       "      <td>-0.380059</td>\n",
       "      <td>-0.997127</td>\n",
       "      <td>0.380240</td>\n",
       "      <td>-0.649749</td>\n",
       "      <td>1.000000</td>\n",
       "      <td>0.652635</td>\n",
       "    </tr>\n",
       "    <tr>\n",
       "      <th>B_G</th>\n",
       "      <td>0.447490</td>\n",
       "      <td>0.465381</td>\n",
       "      <td>0.574552</td>\n",
       "      <td>-0.111130</td>\n",
       "      <td>-0.031353</td>\n",
       "      <td>-0.649762</td>\n",
       "      <td>0.031534</td>\n",
       "      <td>-0.997114</td>\n",
       "      <td>0.652635</td>\n",
       "      <td>1.000000</td>\n",
       "    </tr>\n",
       "  </tbody>\n",
       "</table>\n",
       "</div>"
      ],
      "text/plain": [
       "             R         G         B      tree       R_G       R_B       G_R  \\\n",
       "R     1.000000  0.899072  0.846769 -0.125335  0.153932 -0.263750 -0.153750   \n",
       "G     0.899072  1.000000  0.898994 -0.116350  0.045389 -0.342506 -0.045207   \n",
       "B     0.846769  0.898994  1.000000 -0.121660  0.033450 -0.424837 -0.033269   \n",
       "tree -0.125335 -0.116350 -0.121660  1.000000 -0.079001  0.054447  0.078985   \n",
       "R_G   0.153932  0.045389  0.033450 -0.079001  1.000000  0.379423 -0.999819   \n",
       "R_B  -0.263750 -0.342506 -0.424837  0.054447  0.379423  1.000000 -0.379268   \n",
       "G_R  -0.153750 -0.045207 -0.033269  0.078985 -0.999819 -0.379268  1.000000   \n",
       "G_B  -0.444605 -0.462489 -0.571655  0.110904  0.030730  0.652622 -0.030549   \n",
       "B_R   0.266622  0.345384  0.427721 -0.054677 -0.380059 -0.997127  0.380240   \n",
       "B_G   0.447490  0.465381  0.574552 -0.111130 -0.031353 -0.649762  0.031534   \n",
       "\n",
       "           G_B       B_R       B_G  \n",
       "R    -0.444605  0.266622  0.447490  \n",
       "G    -0.462489  0.345384  0.465381  \n",
       "B    -0.571655  0.427721  0.574552  \n",
       "tree  0.110904 -0.054677 -0.111130  \n",
       "R_G   0.030730 -0.380059 -0.031353  \n",
       "R_B   0.652622 -0.997127 -0.649762  \n",
       "G_R  -0.030549  0.380240  0.031534  \n",
       "G_B   1.000000 -0.649749 -0.997114  \n",
       "B_R  -0.649749  1.000000  0.652635  \n",
       "B_G  -0.997114  0.652635  1.000000  "
      ]
     },
     "execution_count": 37,
     "metadata": {},
     "output_type": "execute_result"
    }
   ],
   "source": [
    "# Check Correlations\n",
    "tree_training = tree_training.replace([np.inf, -np.inf], np.nan)\n",
    "tree_training = tree_training.fillna(0)\n",
    "tree_training.corr(method = 'kendall')"
   ]
  },
  {
   "cell_type": "code",
   "execution_count": 38,
   "metadata": {},
   "outputs": [],
   "source": [
    "tree_training.corr(method = 'kendall').to_csv('ge_corr.csv')"
   ]
  },
  {
   "cell_type": "markdown",
   "metadata": {},
   "source": [
    "# Load Model"
   ]
  },
  {
   "cell_type": "code",
   "execution_count": 19,
   "metadata": {},
   "outputs": [],
   "source": [
    "from sklearn import preprocessing\n",
    "import matplotlib.pyplot as plt \n",
    "plt.rc(\"font\", size=14)\n",
    "from sklearn.linear_model import LogisticRegression\n",
    "from sklearn.model_selection import train_test_split\n",
    "import seaborn as sns\n",
    "sns.set(style=\"white\")\n",
    "sns.set(style=\"whitegrid\", color_codes=True)"
   ]
  },
  {
   "cell_type": "code",
   "execution_count": 20,
   "metadata": {},
   "outputs": [],
   "source": [
    "tree_training.to_csv('google_earth_tree_training.csv',index = False)"
   ]
  },
  {
   "cell_type": "code",
   "execution_count": 21,
   "metadata": {},
   "outputs": [],
   "source": [
    "X = tree_training[['Band_1','Band_2','Band_3','Band_3_Band_2']]\n",
    "y = tree_training.tree\n",
    "X_train, X_test, y_train, y_test = train_test_split(X, y, test_size=0.3, random_state=0)"
   ]
  },
  {
   "cell_type": "code",
   "execution_count": 22,
   "metadata": {
    "scrolled": true
   },
   "outputs": [
    {
     "name": "stdout",
     "output_type": "stream",
     "text": [
      "Optimization terminated successfully.\n",
      "         Current function value: 0.485690\n",
      "         Iterations 6\n",
      "                          Results: Logit\n",
      "==================================================================\n",
      "Model:              Logit            Pseudo R-squared: 0.028      \n",
      "Dependent Variable: tree             AIC:              602174.0152\n",
      "Date:               2020-05-02 18:04 BIC:              602219.3645\n",
      "No. Observations:   619908           Log-Likelihood:   -3.0108e+05\n",
      "Df Model:           3                LL-Null:          -3.0990e+05\n",
      "Df Residuals:       619904           LLR p-value:      0.0000     \n",
      "Converged:          1.0000           Scale:            1.0000     \n",
      "No. Iterations:     6.0000                                        \n",
      "------------------------------------------------------------------\n",
      "                   Coef.  Std.Err.    z     P>|z|   [0.025  0.975]\n",
      "------------------------------------------------------------------\n",
      "Band_1            -0.0366   0.0005 -69.2311 0.0000 -0.0376 -0.0356\n",
      "Band_2             0.0366   0.0007  50.0549 0.0000  0.0351  0.0380\n",
      "Band_3            -0.0065   0.0005 -13.7986 0.0000 -0.0075 -0.0056\n",
      "Band_3_Band_2     -0.9621   0.0151 -63.8284 0.0000 -0.9917 -0.9326\n",
      "==================================================================\n",
      "\n"
     ]
    }
   ],
   "source": [
    "import statsmodels.api as sm\n",
    "logit_model=sm.Logit(y,X)\n",
    "result=logit_model.fit()\n",
    "print(result.summary2())\n"
   ]
  },
  {
   "cell_type": "code",
   "execution_count": 23,
   "metadata": {},
   "outputs": [
    {
     "data": {
      "text/plain": [
       "LogisticRegression(C=1.0, class_weight=None, dual=False, fit_intercept=True,\n",
       "                   intercept_scaling=1, l1_ratio=None, max_iter=200,\n",
       "                   multi_class='auto', n_jobs=None, penalty='l2',\n",
       "                   random_state=0, solver='lbfgs', tol=0.0001, verbose=0,\n",
       "                   warm_start=False)"
      ]
     },
     "execution_count": 23,
     "metadata": {},
     "output_type": "execute_result"
    }
   ],
   "source": [
    "logreg = LogisticRegression(random_state=0,max_iter=200)\n",
    "logreg.fit(X_train, y_train)\n"
   ]
  },
  {
   "cell_type": "code",
   "execution_count": 24,
   "metadata": {},
   "outputs": [
    {
     "name": "stdout",
     "output_type": "stream",
     "text": [
      "Accuracy of logistic regression classifier on test set: 0.80\n"
     ]
    }
   ],
   "source": [
    "y_pred = logreg.predict(X_test)\n",
    "print('Accuracy of logistic regression classifier on test set: {:.2f}'.format(logreg.score(X_test, y_test)))"
   ]
  },
  {
   "cell_type": "code",
   "execution_count": 25,
   "metadata": {},
   "outputs": [
    {
     "name": "stdout",
     "output_type": "stream",
     "text": [
      "[[148358    483]\n",
      " [ 37057     75]]\n",
      "              precision    recall  f1-score   support\n",
      "\n",
      "           0       0.80      1.00      0.89    148841\n",
      "           1       0.13      0.00      0.00     37132\n",
      "\n",
      "    accuracy                           0.80    185973\n",
      "   macro avg       0.47      0.50      0.45    185973\n",
      "weighted avg       0.67      0.80      0.71    185973\n",
      "\n"
     ]
    }
   ],
   "source": [
    "from sklearn.metrics import confusion_matrix\n",
    "confusion_matrix = confusion_matrix(y_test, y_pred)\n",
    "print(confusion_matrix)\n",
    "from sklearn.metrics import classification_report\n",
    "print(classification_report(y_test, y_pred))"
   ]
  },
  {
   "cell_type": "code",
   "execution_count": null,
   "metadata": {},
   "outputs": [],
   "source": []
  },
  {
   "cell_type": "code",
   "execution_count": 26,
   "metadata": {},
   "outputs": [
    {
     "data": {
      "image/png": "[encoded data removed]",
      "text/plain": [
       "<Figure size 432x288 with 1 Axes>"
      ]
     },
     "metadata": {},
     "output_type": "display_data"
    }
   ],
   "source": [
    "from sklearn.metrics import roc_auc_score\n",
    "from sklearn.metrics import roc_curve\n",
    "logit_roc_auc = roc_auc_score(y_test, logreg.predict(X_test))\n",
    "fpr, tpr, thresholds = roc_curve(y_test, logreg.predict_proba(X_test)[:,1])\n",
    "plt.figure()\n",
    "plt.plot(fpr, tpr, label='Logistic Regression (area = %0.2f)' % logit_roc_auc)\n",
    "plt.plot([0, 1], [0, 1],'r--')\n",
    "plt.xlim([0.0, 1.0])\n",
    "plt.ylim([0.0, 1.05])\n",
    "plt.xlabel('False Positive Rate')\n",
    "plt.ylabel('True Positive Rate')\n",
    "plt.title('Receiver operating characteristic')\n",
    "plt.legend(loc=\"lower right\")\n",
    "plt.savefig('Log_ROC_ge')\n",
    "plt.show()"
   ]
  },
  {
   "cell_type": "code",
   "execution_count": 27,
   "metadata": {},
   "outputs": [
    {
     "data": {
      "text/plain": [
       "0.1996489801712512"
      ]
     },
     "execution_count": 27,
     "metadata": {},
     "output_type": "execute_result"
    }
   ],
   "source": [
    "tree_training.tree.sum()/len(tree_training)"
   ]
  },
  {
   "cell_type": "code",
   "execution_count": 28,
   "metadata": {},
   "outputs": [
    {
     "data": {
      "text/plain": [
       "0.21198705662717782"
      ]
     },
     "execution_count": 28,
     "metadata": {},
     "output_type": "execute_result"
    }
   ],
   "source": [
    "tree_mask.area/delmar.iloc[0].geometry.area\n"
   ]
  },
  {
   "cell_type": "code",
   "execution_count": 29,
   "metadata": {},
   "outputs": [
    {
     "data": {
      "text/plain": [
       "0.0027746052640069173"
      ]
     },
     "execution_count": 29,
     "metadata": {},
     "output_type": "execute_result"
    }
   ],
   "source": [
    "predict = logr\n",
    "eg.predict(X)\n",
    "predict.sum()/len(predict)"
   ]
  },
  {
   "cell_type": "code",
   "execution_count": 31,
   "metadata": {},
   "outputs": [
    {
     "data": {
      "text/plain": [
       "0.020240632352465104"
      ]
     },
     "execution_count": 31,
     "metadata": {},
     "output_type": "execute_result"
    }
   ],
   "source": [
    "nt = pd.read_csv('naip_training.csv')\n",
    "predict = logreg.predict(nt[['Band_1','Band_2','Band_3','Band_3_Band_2']])\n",
    "predict.sum()/len(predict)"
   ]
  },
  {
   "cell_type": "code",
   "execution_count": 32,
   "metadata": {},
   "outputs": [
    {
     "data": {
      "text/plain": [
       "0.00046577592589361474"
      ]
     },
     "execution_count": 32,
     "metadata": {},
     "output_type": "execute_result"
    }
   ],
   "source": [
    "nt = pd.read_csv('hro_training.csv')\n",
    "predict = logreg.predict(nt[['Band_1','Band_2','Band_3','Band_3_Band_2']])\n",
    "predict.sum()/len(predict)"
   ]
  },
  {
   "cell_type": "code",
   "execution_count": null,
   "metadata": {},
   "outputs": [],
   "source": []
  }
 ],
 "metadata": {
  "kernelspec": {
   "display_name": "SanDiego (sandiego_py3)",
   "language": "python",
   "name": "sandiego_py3"
  },
  "language_info": {
   "codemirror_mode": {
    "name": "ipython",
    "version": 3
   },
   "file_extension": ".py",
   "mimetype": "text/x-python",
   "name": "python",
   "nbconvert_exporter": "python",
   "pygments_lexer": "ipython3",
   "version": "3.7.7"
  }
 },
 "nbformat": 4,
 "nbformat_minor": 2
}
