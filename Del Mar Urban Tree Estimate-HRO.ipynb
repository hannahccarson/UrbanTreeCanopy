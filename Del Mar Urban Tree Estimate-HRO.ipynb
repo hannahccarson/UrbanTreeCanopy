{
 "cells": [
  {
   "cell_type": "code",
   "execution_count": null,
   "metadata": {},
   "outputs": [],
   "source": [
    "def get_tree_percent(x):\n",
    "    return x['geometry_tree'].intersection(x['geometry']).area/x['geometry'].area\n",
    "#tract_taz['tract_pct'] = tract_taz[['geometry','geometry_taz']].apply(get_percent, axis = 1)\n"
   ]
  },
  {
   "cell_type": "code",
   "execution_count": null,
   "metadata": {},
   "outputs": [],
   "source": [
    "def ix2xy(r,c,gt):\n",
    "    '''Gets x,y from row and column'''\n",
    "    x = gt[0] + r * gt[1]\n",
    "    y = gt[3] + c * gt[5]\n",
    "    return(x,y)"
   ]
  },
  {
   "cell_type": "code",
   "execution_count": 1,
   "metadata": {},
   "outputs": [],
   "source": [
    "import pandas as pd\n",
    "import numpy as np\n",
    "import geopandas as gpd\n",
    "import os\n",
    "import gdal\n",
    "import rasterio\n",
    "import fiona\n",
    "import rasterio.mask\n",
    "from rastertodataframe import raster_to_dataframe\n",
    "import itertools"
   ]
  },
  {
   "cell_type": "markdown",
   "metadata": {},
   "source": [
    "## Read in Image Data"
   ]
  },
  {
   "cell_type": "code",
   "execution_count": 12,
   "metadata": {},
   "outputs": [],
   "source": [
    "boundaryDir = r'data\\boundaries'\n",
    "treeDir = r'data\\trees'\n",
    "img_list = ['62451925.tif','62451930.tif','62451935.tif','62501920.tif','62501925.tif','62501930.tif']"
   ]
  },
  {
   "cell_type": "code",
   "execution_count": 4,
   "metadata": {},
   "outputs": [],
   "source": [
    "delmar = gpd.read_file(os.path.join(boundaryDir,\"DEL_MAR.shp\"))\n",
    "crs_ref  = rasterio.open(os.path.join('data','images','HRO', img_list[0])).crs\n",
    "delmar = delmar.to_crs(crs_ref)"
   ]
  },
  {
   "cell_type": "code",
   "execution_count": 6,
   "metadata": {},
   "outputs": [],
   "source": [
    "# Read in tree data into correct projection\n",
    "dmtrees = gpd.read_file(os.path.join(treeDir,'delmar_trees.shp'))\n",
    "dmtrees = dmtrees.to_crs(delmar.crs)\n",
    "tree_mask = dmtrees.geometry.unary_union\n"
   ]
  },
  {
   "cell_type": "markdown",
   "metadata": {},
   "source": [
    "## Process Raster Data"
   ]
  },
  {
   "cell_type": "code",
   "execution_count": 13,
   "metadata": {},
   "outputs": [],
   "source": [
    "#crop del mar from image file\n",
    "shapes = delmar['geometry']\n",
    "for i,img in enumerate(img_list):\n",
    "    with rasterio.open(os.path.join('data','images','HRO',img)) as src:\n",
    "        out_image, out_transform = rasterio.mask.mask(src, shapes, crop=True)\n",
    "        out_meta = src.meta\n",
    "    out_meta.update({\"driver\": \"GTiff\",\n",
    "                 \"height\": out_image.shape[1],\n",
    "                 \"width\": out_image.shape[2],\n",
    "                 \"transform\": out_transform})\n",
    "\n",
    "    with rasterio.open(os.path.join('data','images','HRO',\"delmar_masked_{}.tif\".format(i)), \"w\", **out_meta) as dest:\n",
    "        dest.write(out_image)\n",
    "# crop trees and 'not' trees\n",
    "    dmt = rasterio.open(os.path.join('data','images','HRO','delmar_masked_{}.tif'.format(i)))\n",
    "    out_image_trees, out_transform_trees = rasterio.mask.mask(dmt, tree_mask, crop=True, invert = False)\n",
    "    out_meta_trees = dmt.meta\n",
    "    out_image_not_trees, out_transform_not_trees = rasterio.mask.mask(dmt, tree_mask, crop=False, invert = True)\n",
    "    out_meta_not_trees = dmt.meta\n",
    "    \n",
    "    out_meta_trees.update({\"driver\": \"GTiff\",\n",
    "                 \"height\": out_image_trees.shape[1],\n",
    "                 \"width\": out_image_trees.shape[2],\n",
    "                 \"transform\": out_transform_trees})\n",
    "\n",
    "    with rasterio.open(os.path.join('data','images','HRO',\"delmar_masked_trees_{}.tif\".format(i)), \"w\", **out_meta_trees) as dest:\n",
    "        dest.write(out_image_trees)\n",
    "    \n",
    "    out_meta_not_trees.update({\"driver\": \"GTiff\",\n",
    "                     \"height\": out_image_not_trees.shape[1],\n",
    "                     \"width\": out_image_not_trees.shape[2],\n",
    "                     \"transform\": out_transform_not_trees})\n",
    "\n",
    "    with rasterio.open(os.path.join('data','images','HRO',\"delmar_masked_not_trees_{}.tif\".format(i)), \"w\", **out_meta_not_trees) as dest:\n",
    "        dest.write(out_image_not_trees)        \n",
    "        "
   ]
  },
  {
   "cell_type": "markdown",
   "metadata": {},
   "source": [
    "# Load Training Data"
   ]
  },
  {
   "cell_type": "code",
   "execution_count": null,
   "metadata": {},
   "outputs": [],
   "source": [
    "#ds = gdal.Open(os.path.join('data','images','delmar_masked.tif'))\n",
    "#gt = ds.GetGeoTransform()\n",
    "\n",
    "\n",
    "#df = pd.DataFrame.from_records(itertools.product(range(ds.RasterYSize),range(ds.RasterXSize)),columns=['Row','Column'])\n",
    "\n",
    "#ds = None\n",
    "\n",
    "#df['X'], df['Y'] = zip(*df.apply(lambda x: ix2xy(x['Column'],x['Row'],gt),axis=1))"
   ]
  },
  {
   "cell_type": "code",
   "execution_count": 62,
   "metadata": {},
   "outputs": [],
   "source": [
    "for i in range(0,6):\n",
    "# Load Trees to DataFrame\n",
    "    dmtgrtree = raster_to_dataframe(os.path.join('data','images','HRO','delmar_masked_trees_{}.tif'.format(i)))\n",
    "    dmtgrtree['tree'] = 1\n",
    "    # Load Not Trees to DataFrame\n",
    "    dmtgrntree = raster_to_dataframe(os.path.join('data','images','HRO','delmar_masked_not_trees_{}.tif').format(i))\n",
    "    dmtgrntree['tree'] = 0\n",
    "    # clip no data values\n",
    "    dmtgrtree['summy'] = dmtgrtree.Band_1+dmtgrtree.Band_2+dmtgrtree.Band_3+dmtgrtree.Band_4\n",
    "    dmtgrntree['summy'] = dmtgrntree.Band_1+dmtgrntree.Band_2+dmtgrntree.Band_3+dmtgrntree.Band_4\n",
    "    if i == 0: \n",
    "        tree_training = pd.concat([dmtgrtree[dmtgrtree.summy >0],dmtgrntree[dmtgrntree.summy > 0]], axis = 0)\n",
    "    else:\n",
    "        tree_training = pd.concat([tree_training,dmtgrtree[dmtgrtree.summy >0],dmtgrntree[dmtgrntree.summy > 0]], axis = 0)"
   ]
  },
  {
   "cell_type": "code",
   "execution_count": 63,
   "metadata": {},
   "outputs": [],
   "source": [
    "tree_training = tree_training[['Band_1','Band_2','Band_3','Band_4','tree']].rename(columns = {'Band_1':'R','Band_2':'G','Band_3':'B','Band_4':'I'})"
   ]
  },
  {
   "cell_type": "code",
   "execution_count": 64,
   "metadata": {},
   "outputs": [],
   "source": [
    "# Calculate Ratios\n",
    "bands = ['R','G','B','I']\n",
    "for b in bands:\n",
    "    for r in bands:\n",
    "        if b==r: continue\n",
    "        tree_training['{}_{}'.format(b,r)] = tree_training[b]/tree_training[r]"
   ]
  },
  {
   "cell_type": "code",
   "execution_count": 65,
   "metadata": {},
   "outputs": [],
   "source": [
    "# Check Correlations\n",
    "tree_training = tree_training.replace([np.inf, -np.inf], np.nan)\n",
    "tree_training = tree_training.fillna(0)\n",
    "tree_training.corr(method = 'kendall').to_csv('hro_corr.csv')"
   ]
  },
  {
   "cell_type": "markdown",
   "metadata": {},
   "source": [
    "# Load Model"
   ]
  },
  {
   "cell_type": "code",
   "execution_count": 17,
   "metadata": {},
   "outputs": [],
   "source": [
    "from sklearn import preprocessing\n",
    "import matplotlib.pyplot as plt \n",
    "plt.rc(\"font\", size=14)\n",
    "from sklearn.linear_model import LogisticRegression\n",
    "from sklearn.model_selection import train_test_split\n",
    "import seaborn as sns\n",
    "sns.set(style=\"white\")\n",
    "sns.set(style=\"whitegrid\", color_codes=True)"
   ]
  },
  {
   "cell_type": "code",
   "execution_count": 52,
   "metadata": {},
   "outputs": [],
   "source": [
    "X = tree_training[['Band_1','Band_2','Band_3','Band_2_Band_1']]\n",
    "y = tree_training.tree\n",
    "X_train, X_test, y_train, y_test = train_test_split(X, y, test_size=0.3, random_state=0)"
   ]
  },
  {
   "cell_type": "code",
   "execution_count": 53,
   "metadata": {
    "scrolled": true
   },
   "outputs": [
    {
     "name": "stdout",
     "output_type": "stream",
     "text": [
      "Optimization terminated successfully.\n",
      "         Current function value: 0.423329\n",
      "         Iterations 7\n",
      "                           Results: Logit\n",
      "====================================================================\n",
      "Model:              Logit            Pseudo R-squared: 0.225        \n",
      "Dependent Variable: tree             AIC:              34209838.3007\n",
      "Date:               2020-05-04 12:52 BIC:              34209900.3586\n",
      "No. Observations:   40405695         Log-Likelihood:   -1.7105e+07  \n",
      "Df Model:           3                LL-Null:          -2.2077e+07  \n",
      "Df Residuals:       40405691         LLR p-value:      0.0000       \n",
      "Converged:          1.0000           Scale:            1.0000       \n",
      "No. Iterations:     7.0000                                          \n",
      "--------------------------------------------------------------------\n",
      "                   Coef.  Std.Err.     z      P>|z|   [0.025  0.975]\n",
      "--------------------------------------------------------------------\n",
      "Band_1            -0.0261   0.0001  -399.6681 0.0000 -0.0262 -0.0259\n",
      "Band_2             0.1173   0.0001  1265.8738 0.0000  0.1171  0.1174\n",
      "Band_3            -0.1286   0.0001 -1723.2979 0.0000 -0.1287 -0.1284\n",
      "Band_2_Band_1      1.8619   0.0019   995.1443 0.0000  1.8582  1.8656\n",
      "====================================================================\n",
      "\n"
     ]
    }
   ],
   "source": [
    "import statsmodels.api as sm\n",
    "logit_model=sm.Logit(y,X)\n",
    "result=logit_model.fit()\n",
    "print(result.summary2())\n"
   ]
  },
  {
   "cell_type": "code",
   "execution_count": 54,
   "metadata": {},
   "outputs": [
    {
     "data": {
      "text/plain": [
       "LogisticRegression(C=1.0, class_weight=None, dual=False, fit_intercept=True,\n",
       "                   intercept_scaling=1, l1_ratio=None, max_iter=200,\n",
       "                   multi_class='auto', n_jobs=None, penalty='l2',\n",
       "                   random_state=0, solver='lbfgs', tol=0.0001, verbose=0,\n",
       "                   warm_start=False)"
      ]
     },
     "execution_count": 54,
     "metadata": {},
     "output_type": "execute_result"
    }
   ],
   "source": [
    "logreg = LogisticRegression(random_state=0,max_iter=200)\n",
    "logreg.fit(X_train, y_train)\n"
   ]
  },
  {
   "cell_type": "code",
   "execution_count": 55,
   "metadata": {},
   "outputs": [
    {
     "name": "stdout",
     "output_type": "stream",
     "text": [
      "Accuracy of logistic regression classifier on test set: 0.79\n"
     ]
    }
   ],
   "source": [
    "y_pred = logreg.predict(X_test)\n",
    "print('Accuracy of logistic regression classifier on test set: {:.2f}'.format(logreg.score(X_test, y_test)))"
   ]
  },
  {
   "cell_type": "code",
   "execution_count": 56,
   "metadata": {},
   "outputs": [
    {
     "name": "stdout",
     "output_type": "stream",
     "text": [
      "[[8685044  575044]\n",
      " [1962016  899605]]\n",
      "              precision    recall  f1-score   support\n",
      "\n",
      "           0       0.82      0.94      0.87   9260088\n",
      "           1       0.61      0.31      0.41   2861621\n",
      "\n",
      "    accuracy                           0.79  12121709\n",
      "   macro avg       0.71      0.63      0.64  12121709\n",
      "weighted avg       0.77      0.79      0.76  12121709\n",
      "\n"
     ]
    }
   ],
   "source": [
    "from sklearn.metrics import confusion_matrix\n",
    "confusion_matrix = confusion_matrix(y_test, y_pred)\n",
    "print(confusion_matrix)\n",
    "from sklearn.metrics import classification_report\n",
    "print(classification_report(y_test, y_pred))"
   ]
  },
  {
   "cell_type": "code",
   "execution_count": 57,
   "metadata": {},
   "outputs": [
    {
     "data": {
      "image/png": "[encoded data removed]",
      "text/plain": [
       "<Figure size 432x288 with 1 Axes>"
      ]
     },
     "metadata": {},
     "output_type": "display_data"
    }
   ],
   "source": [
    "import matplotlib.pyplot as plt\n",
    "from sklearn.metrics import roc_auc_score\n",
    "from sklearn.metrics import roc_curve\n",
    "logit_roc_auc = roc_auc_score(y_test, logreg.predict(X_test))\n",
    "fpr, tpr, thresholds = roc_curve(y_test, logreg.predict_proba(X_test)[:,1])\n",
    "plt.figure()\n",
    "plt.plot(fpr, tpr, label='Logistic Regression (area = %0.2f)' % logit_roc_auc)\n",
    "plt.plot([0, 1], [0, 1],'r--')\n",
    "plt.xlim([0.0, 1.0])\n",
    "plt.ylim([0.0, 1.05])\n",
    "plt.xlabel('False Positive Rate')\n",
    "plt.ylabel('True Positive Rate')\n",
    "plt.title('Receiver operating characteristic')\n",
    "plt.legend(loc=\"lower right\")\n",
    "plt.savefig('Log_ROC_hro')\n",
    "plt.show()"
   ]
  },
  {
   "cell_type": "code",
   "execution_count": 45,
   "metadata": {},
   "outputs": [
    {
     "data": {
      "text/plain": [
       "0.23597096894385805"
      ]
     },
     "execution_count": 45,
     "metadata": {},
     "output_type": "execute_result"
    }
   ],
   "source": [
    "tree_training.tree.sum()/len(tree_training)"
   ]
  },
  {
   "cell_type": "code",
   "execution_count": 46,
   "metadata": {},
   "outputs": [],
   "source": [
    "ge = pd.read_csv('google_earth_tree_training.csv')"
   ]
  },
  {
   "cell_type": "code",
   "execution_count": 47,
   "metadata": {},
   "outputs": [
    {
     "data": {
      "text/plain": [
       "Index(['Band_1', 'Band_2', 'Band_3', 'tree', 'summy', 'Band_1_Band_2',\n",
       "       'Band_1_Band_3', 'Band_2_Band_1', 'Band_2_Band_3', 'Band_3_Band_1',\n",
       "       'Band_3_Band_2'],\n",
       "      dtype='object')"
      ]
     },
     "execution_count": 47,
     "metadata": {},
     "output_type": "execute_result"
    }
   ],
   "source": [
    "ge.columns"
   ]
  },
  {
   "cell_type": "code",
   "execution_count": null,
   "metadata": {},
   "outputs": [],
   "source": [
    "tree_mask.area"
   ]
  },
  {
   "cell_type": "code",
   "execution_count": 24,
   "metadata": {},
   "outputs": [
    {
     "data": {
      "text/plain": [
       "0.2119989014551908"
      ]
     },
     "execution_count": 24,
     "metadata": {},
     "output_type": "execute_result"
    }
   ],
   "source": [
    "tree_mask.area/delmar.iloc[0].geometry.area\n"
   ]
  },
  {
   "cell_type": "code",
   "execution_count": 58,
   "metadata": {},
   "outputs": [
    {
     "data": {
      "text/plain": [
       "0.12166723032483416"
      ]
     },
     "execution_count": 58,
     "metadata": {},
     "output_type": "execute_result"
    }
   ],
   "source": [
    "predict = logreg.predict(X)\n",
    "predict.sum()/len(predict)"
   ]
  },
  {
   "cell_type": "code",
   "execution_count": 60,
   "metadata": {},
   "outputs": [
    {
     "data": {
      "text/plain": [
       "0.46024777610506007"
      ]
     },
     "execution_count": 60,
     "metadata": {},
     "output_type": "execute_result"
    }
   ],
   "source": [
    "nt = pd.read_csv('naip_training.csv')\n",
    "predict = logreg.predict(nt[['Band_1','Band_2','Band_3','Band_2_Band_1']])\n",
    "predict.sum()/len(predict)"
   ]
  },
  {
   "cell_type": "code",
   "execution_count": 61,
   "metadata": {},
   "outputs": [
    {
     "data": {
      "text/plain": [
       "0.6262574446530775"
      ]
     },
     "execution_count": 61,
     "metadata": {},
     "output_type": "execute_result"
    }
   ],
   "source": [
    "nt = pd.read_csv('ge_training.csv')\n",
    "predict = logreg.predict(nt[['Band_1','Band_2','Band_3','Band_2_Band_1']])\n",
    "predict.sum()/len(predict)"
   ]
  },
  {
   "cell_type": "code",
   "execution_count": 50,
   "metadata": {},
   "outputs": [
    {
     "data": {
      "text/plain": [
       "920302"
      ]
     },
     "execution_count": 50,
     "metadata": {},
     "output_type": "execute_result"
    }
   ],
   "source": [
    "nt.tree.sum()"
   ]
  },
  {
   "cell_type": "code",
   "execution_count": 51,
   "metadata": {},
   "outputs": [],
   "source": [
    "tree_training.to_csv('hro_training.csv')"
   ]
  },
  {
   "cell_type": "code",
   "execution_count": null,
   "metadata": {},
   "outputs": [],
   "source": []
  }
 ],
 "metadata": {
  "kernelspec": {
   "display_name": "SanDiego (sandiego_py3)",
   "language": "python",
   "name": "sandiego_py3"
  },
  "language_info": {
   "codemirror_mode": {
    "name": "ipython",
    "version": 3
   },
   "file_extension": ".py",
   "mimetype": "text/x-python",
   "name": "python",
   "nbconvert_exporter": "python",
   "pygments_lexer": "ipython3",
   "version": "3.7.7"
  }
 },
 "nbformat": 4,
 "nbformat_minor": 2
}
